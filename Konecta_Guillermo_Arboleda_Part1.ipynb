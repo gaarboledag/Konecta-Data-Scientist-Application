{
 "cells": [
  {
   "cell_type": "markdown",
   "id": "fd647459-68a6-4b48-9bd2-d7bbdfbf4cf8",
   "metadata": {},
   "source": [
    "# Konecta Technical Test For Data Scientist Position: Part 1\n",
    "\n",
    "## Churn Detection For Banks\n",
    "\n",
    "### Presented by Guillermo Andrés Arboleda Garzón, gaarboledag@gmail.com, gaarboledag@ut.edu.co.\n",
    "\n",
    "### Table of Contents:\n",
    "\n",
    "1. [Setting the environment](#1.-Setting-the-environment)\n",
    "2. [Data exploration & Cleaning](#2.-Data-exploration-&-Cleaning)\n",
    "3. [Data Visualization](#3.-Data-Visualization)\n",
    "4. [Feature engineering](#4.-Feature-engineering)\n",
    "5. [Model training & evaluation](#5.-Model-training-&-evaluation)\n",
    "6. [Inference](#6.-Inference)\n",
    "7. [Future improvements, OOP and deployment discussion](#7.-Future-improvements,-OOP-and-deployment-discussion)"
   ]
  },
  {
   "cell_type": "markdown",
   "id": "c57998f6-7d5f-4046-9281-5771dda88126",
   "metadata": {},
   "source": [
    "## 1. Setting the environment"
   ]
  },
  {
   "cell_type": "code",
   "execution_count": 1,
   "id": "251cf795-f44f-4681-90ec-a1dd10549280",
   "metadata": {},
   "outputs": [],
   "source": [
    "import pandas as pd\n",
    "import numpy as np\n",
    "import matplotlib.pyplot as plt\n",
    "import seaborn as sns\n",
    "from sklearn.model_selection import train_test_split, GridSearchCV\n",
    "from sklearn.preprocessing import StandardScaler, OneHotEncoder\n",
    "from sklearn.impute import SimpleImputer\n",
    "from sklearn.ensemble import RandomForestClassifier\n",
    "from sklearn.linear_model import LogisticRegression\n",
    "from sklearn.metrics import classification_report, roc_auc_score\n",
    "\n",
    "# Load the datasets\n",
    "train_df = pd.read_csv('train.csv')\n",
    "inference_df = pd.read_csv('inference.csv')"
   ]
  },
  {
   "cell_type": "markdown",
   "id": "1f8036c2-a86b-4e43-8e5a-e0cbd9e5ca27",
   "metadata": {},
   "source": [
    "## 2. Data exploration & Cleaning"
   ]
  },
  {
   "cell_type": "code",
   "execution_count": 2,
   "id": "948fbccb-dfcf-4bc4-b3f9-608d6c5d70a0",
   "metadata": {},
   "outputs": [
    {
     "name": "stdout",
     "output_type": "stream",
     "text": [
      "Data basic information:\n",
      "<class 'pandas.core.frame.DataFrame'>\n",
      "RangeIndex: 148531 entries, 0 to 148530\n",
      "Data columns (total 14 columns):\n",
      " #   Column           Non-Null Count   Dtype  \n",
      "---  ------           --------------   -----  \n",
      " 0   id               148531 non-null  int64  \n",
      " 1   CustomerId       148531 non-null  int64  \n",
      " 2   Surname          148531 non-null  object \n",
      " 3   CreditScore      148531 non-null  int64  \n",
      " 4   Geography        148531 non-null  object \n",
      " 5   Gender           148531 non-null  object \n",
      " 6   Age              148531 non-null  float64\n",
      " 7   Tenure           148531 non-null  int64  \n",
      " 8   Balance          148531 non-null  float64\n",
      " 9   NumOfProducts    148531 non-null  int64  \n",
      " 10  HasCrCard        148531 non-null  float64\n",
      " 11  IsActiveMember   148531 non-null  float64\n",
      " 12  EstimatedSalary  148531 non-null  float64\n",
      " 13  Churn            148531 non-null  int64  \n",
      "dtypes: float64(5), int64(6), object(3)\n",
      "memory usage: 15.9+ MB\n",
      "None\n"
     ]
    }
   ],
   "source": [
    "print(\"Data basic information:\")\n",
    "print(train_df.info())"
   ]
  },
  {
   "cell_type": "markdown",
   "id": "6eb31fe3-9edc-41db-a2f9-80a35c0538b0",
   "metadata": {},
   "source": [
    "**Feature Description:**\n",
    "\n",
    "**id:** A unique identifier for each record.\n",
    "\n",
    "**CustomerId:** A unique identifier for each customer.\n",
    "\n",
    "**Surname:** The surname of the customer.\n",
    "\n",
    "**CreditScore:** The credit score of the customer, indicating their creditworthiness.\n",
    "\n",
    "**Geography:** The geographical location or country of the customer.\n",
    "\n",
    "**Gender:** The gender of the customer.\n",
    "\n",
    "**Age:** The age of the customer.\n",
    "\n",
    "**Tenure:** The number of years the customer has been with the bank.\n",
    "\n",
    "**Balance:** The account balance of the customer.\n",
    "\n",
    "**NumOfProducts:** The number of bank products the customer is using.\n",
    "\n",
    "**HasCrCard:** Indicates whether the customer has a credit card (1.0 for yes, 0.0 for no).\n",
    "\n",
    "**IsActiveMember:** Indicates whether the customer is an active member (1.0 for yes, 0.0 for no).\n",
    "\n",
    "**EstimatedSalary:** The estimated annual salary of the customer.\n",
    "\n",
    "**Churn:** Indicates whether the customer has churned (1 for yes, 0 for no)."
   ]
  },
  {
   "cell_type": "code",
   "execution_count": 3,
   "id": "dcb71cf6-f885-4ffe-a60b-ea0bd1ce2f3c",
   "metadata": {},
   "outputs": [
    {
     "name": "stdout",
     "output_type": "stream",
     "text": [
      "\n",
      " First 5 rows of data:\n"
     ]
    },
    {
     "data": {
      "text/html": [
       "<div>\n",
       "<style scoped>\n",
       "    .dataframe tbody tr th:only-of-type {\n",
       "        vertical-align: middle;\n",
       "    }\n",
       "\n",
       "    .dataframe tbody tr th {\n",
       "        vertical-align: top;\n",
       "    }\n",
       "\n",
       "    .dataframe thead th {\n",
       "        text-align: right;\n",
       "    }\n",
       "</style>\n",
       "<table border=\"1\" class=\"dataframe\">\n",
       "  <thead>\n",
       "    <tr style=\"text-align: right;\">\n",
       "      <th></th>\n",
       "      <th>id</th>\n",
       "      <th>CustomerId</th>\n",
       "      <th>Surname</th>\n",
       "      <th>CreditScore</th>\n",
       "      <th>Geography</th>\n",
       "      <th>Gender</th>\n",
       "      <th>Age</th>\n",
       "      <th>Tenure</th>\n",
       "      <th>Balance</th>\n",
       "      <th>NumOfProducts</th>\n",
       "      <th>HasCrCard</th>\n",
       "      <th>IsActiveMember</th>\n",
       "      <th>EstimatedSalary</th>\n",
       "      <th>Churn</th>\n",
       "    </tr>\n",
       "  </thead>\n",
       "  <tbody>\n",
       "    <tr>\n",
       "      <th>0</th>\n",
       "      <td>94224</td>\n",
       "      <td>15748608</td>\n",
       "      <td>Gordon</td>\n",
       "      <td>619</td>\n",
       "      <td>Germany</td>\n",
       "      <td>Female</td>\n",
       "      <td>32.0</td>\n",
       "      <td>8</td>\n",
       "      <td>175406.13</td>\n",
       "      <td>1</td>\n",
       "      <td>1.0</td>\n",
       "      <td>0.0</td>\n",
       "      <td>172792.43</td>\n",
       "      <td>1</td>\n",
       "    </tr>\n",
       "    <tr>\n",
       "      <th>1</th>\n",
       "      <td>148424</td>\n",
       "      <td>15651450</td>\n",
       "      <td>Chu</td>\n",
       "      <td>676</td>\n",
       "      <td>Germany</td>\n",
       "      <td>Female</td>\n",
       "      <td>40.0</td>\n",
       "      <td>4</td>\n",
       "      <td>180520.41</td>\n",
       "      <td>2</td>\n",
       "      <td>1.0</td>\n",
       "      <td>1.0</td>\n",
       "      <td>171045.25</td>\n",
       "      <td>0</td>\n",
       "    </tr>\n",
       "    <tr>\n",
       "      <th>2</th>\n",
       "      <td>10745</td>\n",
       "      <td>15588560</td>\n",
       "      <td>Scott</td>\n",
       "      <td>748</td>\n",
       "      <td>France</td>\n",
       "      <td>Female</td>\n",
       "      <td>39.0</td>\n",
       "      <td>8</td>\n",
       "      <td>0.00</td>\n",
       "      <td>1</td>\n",
       "      <td>0.0</td>\n",
       "      <td>0.0</td>\n",
       "      <td>57323.18</td>\n",
       "      <td>1</td>\n",
       "    </tr>\n",
       "    <tr>\n",
       "      <th>3</th>\n",
       "      <td>30133</td>\n",
       "      <td>15683363</td>\n",
       "      <td>Goddard</td>\n",
       "      <td>641</td>\n",
       "      <td>France</td>\n",
       "      <td>Female</td>\n",
       "      <td>39.0</td>\n",
       "      <td>4</td>\n",
       "      <td>0.00</td>\n",
       "      <td>1</td>\n",
       "      <td>1.0</td>\n",
       "      <td>0.0</td>\n",
       "      <td>45309.24</td>\n",
       "      <td>1</td>\n",
       "    </tr>\n",
       "    <tr>\n",
       "      <th>4</th>\n",
       "      <td>138709</td>\n",
       "      <td>15790594</td>\n",
       "      <td>Tien</td>\n",
       "      <td>688</td>\n",
       "      <td>Germany</td>\n",
       "      <td>Male</td>\n",
       "      <td>42.0</td>\n",
       "      <td>9</td>\n",
       "      <td>161588.89</td>\n",
       "      <td>2</td>\n",
       "      <td>0.0</td>\n",
       "      <td>1.0</td>\n",
       "      <td>54019.93</td>\n",
       "      <td>0</td>\n",
       "    </tr>\n",
       "  </tbody>\n",
       "</table>\n",
       "</div>"
      ],
      "text/plain": [
       "       id  CustomerId  Surname  CreditScore Geography  Gender   Age  Tenure  \\\n",
       "0   94224    15748608   Gordon          619   Germany  Female  32.0       8   \n",
       "1  148424    15651450      Chu          676   Germany  Female  40.0       4   \n",
       "2   10745    15588560    Scott          748    France  Female  39.0       8   \n",
       "3   30133    15683363  Goddard          641    France  Female  39.0       4   \n",
       "4  138709    15790594     Tien          688   Germany    Male  42.0       9   \n",
       "\n",
       "     Balance  NumOfProducts  HasCrCard  IsActiveMember  EstimatedSalary  Churn  \n",
       "0  175406.13              1        1.0             0.0        172792.43      1  \n",
       "1  180520.41              2        1.0             1.0        171045.25      0  \n",
       "2       0.00              1        0.0             0.0         57323.18      1  \n",
       "3       0.00              1        1.0             0.0         45309.24      1  \n",
       "4  161588.89              2        0.0             1.0         54019.93      0  "
      ]
     },
     "execution_count": 3,
     "metadata": {},
     "output_type": "execute_result"
    }
   ],
   "source": [
    "print(\"\\n First 5 rows of data:\")\n",
    "train_df.head()"
   ]
  },
  {
   "cell_type": "code",
   "execution_count": 4,
   "id": "dea5a087-0b42-46fc-84b9-33fbae3fd553",
   "metadata": {},
   "outputs": [
    {
     "name": "stdout",
     "output_type": "stream",
     "text": [
      "\n",
      " Summary statistics:\n",
      "                  id    CustomerId    CreditScore            Age  \\\n",
      "count  148531.000000  1.485310e+05  148531.000000  148531.000000   \n",
      "mean    82549.661848  1.569205e+07     656.469168      38.121300   \n",
      "std     47622.558340  7.143646e+04      80.051965       8.872704   \n",
      "min         0.000000  1.556570e+07     350.000000      18.000000   \n",
      "25%     41346.500000  1.563319e+07     597.000000      32.000000   \n",
      "50%     82502.000000  1.569016e+07     659.000000      37.000000   \n",
      "75%    123787.500000  1.575690e+07     710.000000      42.000000   \n",
      "max    165033.000000  1.581569e+07     850.000000      92.000000   \n",
      "\n",
      "              Tenure        Balance  NumOfProducts     HasCrCard  \\\n",
      "count  148531.000000  148531.000000  148531.000000  148531.00000   \n",
      "mean        5.022184   55436.712123       1.554692       0.75422   \n",
      "std         2.803853   62785.290142       0.547990       0.43055   \n",
      "min         0.000000       0.000000       1.000000       0.00000   \n",
      "25%         3.000000       0.000000       1.000000       1.00000   \n",
      "50%         5.000000       0.000000       2.000000       1.00000   \n",
      "75%         7.000000  119799.270000       2.000000       1.00000   \n",
      "max        10.000000  250898.090000       4.000000       1.00000   \n",
      "\n",
      "       IsActiveMember  EstimatedSalary          Churn  \n",
      "count   148531.000000    148531.000000  148531.000000  \n",
      "mean         0.497479    112504.758411       0.211599  \n",
      "std          0.499995     50321.231998       0.408443  \n",
      "min          0.000000        11.580000       0.000000  \n",
      "25%          0.000000     74588.410000       0.000000  \n",
      "50%          0.000000    117833.570000       0.000000  \n",
      "75%          1.000000    155023.930000       0.000000  \n",
      "max          1.000000    199992.480000       1.000000  \n"
     ]
    }
   ],
   "source": [
    "print(\"\\n Summary statistics:\")\n",
    "print(train_df.describe())"
   ]
  },
  {
   "cell_type": "code",
   "execution_count": 5,
   "id": "4c102e56-5823-4707-9ba2-8d0c0156ff91",
   "metadata": {},
   "outputs": [
    {
     "name": "stdout",
     "output_type": "stream",
     "text": [
      "\n",
      " Checking for missing values:\n",
      "id                 0\n",
      "CustomerId         0\n",
      "Surname            0\n",
      "CreditScore        0\n",
      "Geography          0\n",
      "Gender             0\n",
      "Age                0\n",
      "Tenure             0\n",
      "Balance            0\n",
      "NumOfProducts      0\n",
      "HasCrCard          0\n",
      "IsActiveMember     0\n",
      "EstimatedSalary    0\n",
      "Churn              0\n",
      "dtype: int64\n"
     ]
    }
   ],
   "source": [
    "print(\"\\n Checking for missing values:\")\n",
    "print(train_df.isnull().sum())"
   ]
  },
  {
   "cell_type": "code",
   "execution_count": 6,
   "id": "2cd5d69b-3f17-4624-b168-b6d59d5a02a3",
   "metadata": {},
   "outputs": [
    {
     "name": "stdout",
     "output_type": "stream",
     "text": [
      "\n",
      " Checking the distribution of the target variable:\n"
     ]
    },
    {
     "data": {
      "image/png": "[encoded data removed]",
      "text/plain": [
       "<Figure size 640x480 with 1 Axes>"
      ]
     },
     "metadata": {},
     "output_type": "display_data"
    }
   ],
   "source": [
    "print(\"\\n Checking the distribution of the target variable:\")\n",
    "sns.countplot(x='Churn', data=train_df)\n",
    "plt.show()"
   ]
  },
  {
   "cell_type": "markdown",
   "id": "9528d836-0674-42e9-abfb-42794e1b598f",
   "metadata": {},
   "source": [
    "The dataset contains 148,531 entries with 14 columns including customer demographic information, account balance, and activity details. There are no missing values. Key insights include:\n",
    "\n",
    "    - The average customer age is 38 years.\n",
    "    - Credit scores range between 350 and 850, with an average of 656.\n",
    "    - The average account balance is approximately 55,437.\n",
    "    - Around 75% of customers have a credit card.\n",
    "    - About half of the customers are active members.\n",
    "    - The target variable, Churn, indicates that roughly 21% of customers have churned."
   ]
  },
  {
   "cell_type": "markdown",
   "id": "e48eb8f2-4b3b-4466-a6af-cd81ff9b46b9",
   "metadata": {},
   "source": [
    "#### Cleaning Process"
   ]
  },
  {
   "cell_type": "code",
   "execution_count": 7,
   "id": "b99ec20a-1860-4c48-b07d-dda957a8e021",
   "metadata": {},
   "outputs": [],
   "source": [
    "# Deleting no relevant columns\n",
    "train_df.drop(['id', 'CustomerId', 'Surname'],axis='columns',inplace=True)\n",
    "\n",
    "# Setting the correct format for the features\n",
    "train_df['Age'] = train_df['Age'].astype(int)\n",
    "train_df['HasCrCard'] = train_df['HasCrCard'].astype(int)\n",
    "train_df['IsActiveMember'] = train_df['IsActiveMember'].astype(int)"
   ]
  },
  {
   "cell_type": "markdown",
   "id": "fd33aa71-466c-4068-85c5-c23a452258a3",
   "metadata": {},
   "source": [
    "#### Looking for Correlation"
   ]
  },
  {
   "cell_type": "code",
   "execution_count": 8,
   "id": "89332299-53e1-4652-b569-8a9b0bcd6e27",
   "metadata": {},
   "outputs": [
    {
     "name": "stdout",
     "output_type": "stream",
     "text": [
      "\n",
      " Checking the correlation matrix with only numeric columns:\n"
     ]
    },
    {
     "data": {
      "image/png": "[encoded data removed]",
      "text/plain": [
       "<Figure size 1200x800 with 2 Axes>"
      ]
     },
     "metadata": {},
     "output_type": "display_data"
    }
   ],
   "source": [
    "print(\"\\n Checking the correlation matrix with only numeric columns:\") \n",
    "numeric_cols = train_df.select_dtypes(include=['int64', 'float64']).columns\n",
    "\n",
    "plt.figure(figsize=(12, 8))\n",
    "sns.heatmap(train_df[numeric_cols].corr(), annot=True, fmt='.2f', cmap='coolwarm')\n",
    "plt.show()"
   ]
  },
  {
   "cell_type": "markdown",
   "id": "d8d48063-d4e0-46de-90fe-bffdce019fb4",
   "metadata": {},
   "source": [
    "The dataset has no missing values, and the correlation matrix was computed for numerical columns to understand relationships between variables. This information provides a overview of customer profiles and churn tendencies.\n",
    "\n",
    "    - There are a partial positive correlation between the target column \"Churn\" and the columns \"Age\" and \"Balance\"\n",
    "    - There are a negative correlation between the target column \"Churn\" and the columns \"NumOfProducts\" and \"IsActiveMember\"\n",
    "    - There are a negative correlation between the columns \"NumOfProducts\" and \"Balance\""
   ]
  },
  {
   "cell_type": "markdown",
   "id": "d591f873-4311-4e21-a7e5-c14dea3c05fd",
   "metadata": {},
   "source": [
    "## 3. Data Visualization \n",
    "\n",
    "The correlations found above allow us to create graphs that better illustrate the behavior of the variables. In this case, to learn more about the customer profile and the causes of churn."
   ]
  },
  {
   "cell_type": "code",
   "execution_count": 9,
   "id": "375f69b6-f64c-4e68-a5ac-f65d41741d75",
   "metadata": {},
   "outputs": [
    {
     "data": {
      "image/png": "[encoded data removed]",
      "text/plain": [
       "<Figure size 1000x600 with 1 Axes>"
      ]
     },
     "metadata": {},
     "output_type": "display_data"
    }
   ],
   "source": [
    "# Histogramas superpuestos\n",
    "plt.figure(figsize=(10, 6))\n",
    "sns.histplot(train_df[train_df['Churn'] == 0]['Age'], color='blue', label='Churn = 0', kde=True, stat=\"density\", linewidth=0)\n",
    "sns.histplot(train_df[train_df['Churn'] == 1]['Age'], color='red', label='Churn = 1', kde=True, stat=\"density\", linewidth=0)\n",
    "plt.title('Overlaid Histograms of Age by Churn')\n",
    "plt.xlabel('Age')\n",
    "plt.ylabel('Density')\n",
    "plt.legend()\n",
    "plt.show()"
   ]
  },
  {
   "cell_type": "markdown",
   "id": "a71ffed9-e2f7-400f-b198-2f9e4b6120fd",
   "metadata": {},
   "source": [
    "The graph above shows:\n",
    "\n",
    "    - The average age of customers who leave the bank (approx. 42) is greater than the average age of the customers staying in the bank (approx. 35)"
   ]
  },
  {
   "cell_type": "code",
   "execution_count": 10,
   "id": "5d0e6cee-90ff-40b7-a31e-3451c4b9a2c3",
   "metadata": {},
   "outputs": [
    {
     "data": {
      "image/png": "[encoded data removed]",
      "text/plain": [
       "<Figure size 1000x600 with 1 Axes>"
      ]
     },
     "metadata": {},
     "output_type": "display_data"
    }
   ],
   "source": [
    "# Gráfico de cajas (box plot)\n",
    "plt.figure(figsize=(10, 6))\n",
    "sns.boxplot(x='Churn', y='NumOfProducts', data=train_df)\n",
    "plt.title('Boxplot of NumOfProducts by Churn')\n",
    "plt.xlabel('Churn')\n",
    "plt.ylabel('NumOfProducts')\n",
    "plt.show()"
   ]
  },
  {
   "cell_type": "markdown",
   "id": "a3b76d71-fcf5-4212-ac5b-440f221dcf9a",
   "metadata": {},
   "source": [
    "The last boxplot show us that the customers more likely to churn are the ones who have contrated only one product in the bank."
   ]
  },
  {
   "cell_type": "markdown",
   "id": "d795ea6d-0590-4f1d-85d7-64a0834c594e",
   "metadata": {},
   "source": [
    "## 4. Feature engineering"
   ]
  },
  {
   "cell_type": "code",
   "execution_count": 11,
   "id": "355c4044-993a-4fd4-abd8-ece3565e5895",
   "metadata": {},
   "outputs": [
    {
     "name": "stdout",
     "output_type": "stream",
     "text": [
      "Geography: ['Germany' 'France' 'Spain']\n",
      "Gender: ['Female' 'Male']\n"
     ]
    }
   ],
   "source": [
    "def print_unique_col_values(df):\n",
    "       for column in df:\n",
    "            if df[column].dtypes=='object':\n",
    "                print(f'{column}: {df[column].unique()}')\n",
    "print_unique_col_values(train_df)"
   ]
  },
  {
   "cell_type": "code",
   "execution_count": 12,
   "id": "7e524f25-be70-4d1e-9016-e4406f80c1d7",
   "metadata": {},
   "outputs": [],
   "source": [
    "pd.set_option('future.no_silent_downcasting', True)\n",
    "\n",
    "# Adjust data structure\n",
    "train_df['Gender'] = train_df['Gender'].replace({'Female': 1, 'Male': 0})\n",
    "\n",
    "# One hot encoding for categorical columns\n",
    "train_df = pd.get_dummies(data=train_df, columns=['Geography'])\n",
    "\n",
    "# Adjust column data types\n",
    "train_df['Gender'] = train_df['Gender'].astype(int)\n",
    "train_df['Geography_France'] = train_df['Geography_France'].astype(int)\n",
    "train_df['Geography_Germany'] = train_df['Geography_Germany'].astype(int)\n",
    "train_df['Geography_Spain'] = train_df['Geography_Spain'].astype(int)\n",
    "\n",
    "# Regularizing 'CreditScore','Tenure','Balance' and 'EstimatedSalary'\n",
    "cols_to_scale = ['CreditScore','Tenure','Balance','EstimatedSalary']\n",
    "\n",
    "from sklearn.preprocessing import MinMaxScaler\n",
    "scaler = MinMaxScaler()\n",
    "train_df[cols_to_scale] = scaler.fit_transform(train_df[cols_to_scale])\n",
    "\n",
    "# Standarizing 'Age'\n",
    "scaler_age = StandardScaler()\n",
    "train_df['Age'] = scaler_age.fit_transform(train_df[['Age']])\n",
    "\n",
    "# Normalizing 'NumOfProducts'\n",
    "scaler_products = MinMaxScaler()\n",
    "train_df['NumOfProducts'] = scaler_products.fit_transform(train_df[['NumOfProducts']])"
   ]
  },
  {
   "cell_type": "markdown",
   "id": "0328e075-cc19-4345-8dbd-fded867a2a19",
   "metadata": {},
   "source": [
    "\n",
    "\n",
    "Let's review the structure of the features one last time. We can even check the interval of values in each one of the features to comprobate the correct data preprocessing:"
   ]
  },
  {
   "cell_type": "code",
   "execution_count": 13,
   "id": "811d51e3-a9ec-4122-a234-748b8307fb94",
   "metadata": {},
   "outputs": [
    {
     "name": "stdout",
     "output_type": "stream",
     "text": [
      "<class 'pandas.core.frame.DataFrame'>\n",
      "RangeIndex: 148531 entries, 0 to 148530\n",
      "Data columns (total 13 columns):\n",
      " #   Column             Non-Null Count   Dtype  \n",
      "---  ------             --------------   -----  \n",
      " 0   CreditScore        148531 non-null  float64\n",
      " 1   Gender             148531 non-null  int64  \n",
      " 2   Age                148531 non-null  float64\n",
      " 3   Tenure             148531 non-null  float64\n",
      " 4   Balance            148531 non-null  float64\n",
      " 5   NumOfProducts      148531 non-null  float64\n",
      " 6   HasCrCard          148531 non-null  int64  \n",
      " 7   IsActiveMember     148531 non-null  int64  \n",
      " 8   EstimatedSalary    148531 non-null  float64\n",
      " 9   Churn              148531 non-null  int64  \n",
      " 10  Geography_France   148531 non-null  int64  \n",
      " 11  Geography_Germany  148531 non-null  int64  \n",
      " 12  Geography_Spain    148531 non-null  int64  \n",
      "dtypes: float64(6), int64(7)\n",
      "memory usage: 14.7 MB\n"
     ]
    },
    {
     "data": {
      "text/html": [
       "<div>\n",
       "<style scoped>\n",
       "    .dataframe tbody tr th:only-of-type {\n",
       "        vertical-align: middle;\n",
       "    }\n",
       "\n",
       "    .dataframe tbody tr th {\n",
       "        vertical-align: top;\n",
       "    }\n",
       "\n",
       "    .dataframe thead th {\n",
       "        text-align: right;\n",
       "    }\n",
       "</style>\n",
       "<table border=\"1\" class=\"dataframe\">\n",
       "  <thead>\n",
       "    <tr style=\"text-align: right;\">\n",
       "      <th></th>\n",
       "      <th>CreditScore</th>\n",
       "      <th>Gender</th>\n",
       "      <th>Age</th>\n",
       "      <th>Tenure</th>\n",
       "      <th>Balance</th>\n",
       "      <th>NumOfProducts</th>\n",
       "      <th>HasCrCard</th>\n",
       "      <th>IsActiveMember</th>\n",
       "      <th>EstimatedSalary</th>\n",
       "      <th>Churn</th>\n",
       "      <th>Geography_France</th>\n",
       "      <th>Geography_Germany</th>\n",
       "      <th>Geography_Spain</th>\n",
       "    </tr>\n",
       "  </thead>\n",
       "  <tbody>\n",
       "    <tr>\n",
       "      <th>0</th>\n",
       "      <td>0.538</td>\n",
       "      <td>1</td>\n",
       "      <td>-0.689904</td>\n",
       "      <td>0.8</td>\n",
       "      <td>0.699113</td>\n",
       "      <td>0.000000</td>\n",
       "      <td>1</td>\n",
       "      <td>0</td>\n",
       "      <td>0.863987</td>\n",
       "      <td>1</td>\n",
       "      <td>0</td>\n",
       "      <td>1</td>\n",
       "      <td>0</td>\n",
       "    </tr>\n",
       "    <tr>\n",
       "      <th>1</th>\n",
       "      <td>0.652</td>\n",
       "      <td>1</td>\n",
       "      <td>0.211741</td>\n",
       "      <td>0.4</td>\n",
       "      <td>0.719497</td>\n",
       "      <td>0.333333</td>\n",
       "      <td>1</td>\n",
       "      <td>1</td>\n",
       "      <td>0.855250</td>\n",
       "      <td>0</td>\n",
       "      <td>0</td>\n",
       "      <td>1</td>\n",
       "      <td>0</td>\n",
       "    </tr>\n",
       "    <tr>\n",
       "      <th>2</th>\n",
       "      <td>0.796</td>\n",
       "      <td>1</td>\n",
       "      <td>0.099035</td>\n",
       "      <td>0.8</td>\n",
       "      <td>0.000000</td>\n",
       "      <td>0.000000</td>\n",
       "      <td>0</td>\n",
       "      <td>0</td>\n",
       "      <td>0.286585</td>\n",
       "      <td>1</td>\n",
       "      <td>1</td>\n",
       "      <td>0</td>\n",
       "      <td>0</td>\n",
       "    </tr>\n",
       "    <tr>\n",
       "      <th>3</th>\n",
       "      <td>0.582</td>\n",
       "      <td>1</td>\n",
       "      <td>0.099035</td>\n",
       "      <td>0.4</td>\n",
       "      <td>0.000000</td>\n",
       "      <td>0.000000</td>\n",
       "      <td>1</td>\n",
       "      <td>0</td>\n",
       "      <td>0.226510</td>\n",
       "      <td>1</td>\n",
       "      <td>1</td>\n",
       "      <td>0</td>\n",
       "      <td>0</td>\n",
       "    </tr>\n",
       "    <tr>\n",
       "      <th>4</th>\n",
       "      <td>0.676</td>\n",
       "      <td>0</td>\n",
       "      <td>0.437152</td>\n",
       "      <td>0.9</td>\n",
       "      <td>0.644042</td>\n",
       "      <td>0.333333</td>\n",
       "      <td>0</td>\n",
       "      <td>1</td>\n",
       "      <td>0.270068</td>\n",
       "      <td>0</td>\n",
       "      <td>0</td>\n",
       "      <td>1</td>\n",
       "      <td>0</td>\n",
       "    </tr>\n",
       "  </tbody>\n",
       "</table>\n",
       "</div>"
      ],
      "text/plain": [
       "   CreditScore  Gender       Age  Tenure   Balance  NumOfProducts  HasCrCard  \\\n",
       "0        0.538       1 -0.689904     0.8  0.699113       0.000000          1   \n",
       "1        0.652       1  0.211741     0.4  0.719497       0.333333          1   \n",
       "2        0.796       1  0.099035     0.8  0.000000       0.000000          0   \n",
       "3        0.582       1  0.099035     0.4  0.000000       0.000000          1   \n",
       "4        0.676       0  0.437152     0.9  0.644042       0.333333          0   \n",
       "\n",
       "   IsActiveMember  EstimatedSalary  Churn  Geography_France  \\\n",
       "0               0         0.863987      1                 0   \n",
       "1               1         0.855250      0                 0   \n",
       "2               0         0.286585      1                 1   \n",
       "3               0         0.226510      1                 1   \n",
       "4               1         0.270068      0                 0   \n",
       "\n",
       "   Geography_Germany  Geography_Spain  \n",
       "0                  1                0  \n",
       "1                  1                0  \n",
       "2                  0                0  \n",
       "3                  0                0  \n",
       "4                  1                0  "
      ]
     },
     "execution_count": 13,
     "metadata": {},
     "output_type": "execute_result"
    }
   ],
   "source": [
    "train_df.info()\n",
    "train_df.head()"
   ]
  },
  {
   "cell_type": "code",
   "execution_count": 14,
   "id": "f046034e-5280-4bcc-ae6e-95dc5afa024b",
   "metadata": {},
   "outputs": [
    {
     "name": "stdout",
     "output_type": "stream",
     "text": [
      "CreditScore: [0.538 0.652 0.796 0.582 0.676 0.662 0.844 0.658 0.65  0.53  0.918 0.474\n",
      " 0.938 0.33  0.616 0.672 0.666 0.518 0.812 0.69  0.496 0.588 0.374 0.762\n",
      " 0.71  0.5   0.43  0.85  0.516 0.558 0.544 0.568 0.384 0.736 0.434 0.32\n",
      " 0.694 0.808 0.638 0.648 0.478 0.534 0.72  0.37  0.998 0.438 0.714 0.502\n",
      " 0.618 0.51  0.458 0.708 0.782 0.718 0.59  0.494 0.36  0.668 0.802 0.57\n",
      " 0.748 0.852 0.462 0.596 0.612 0.572 0.386 0.624 0.444 0.464 0.758 1.\n",
      " 0.814 0.556 0.678 0.39  0.576 0.604 0.424 0.578 0.696 0.698 0.466 0.706\n",
      " 0.45  0.634 0.646 0.656 0.952 0.688 0.622 0.97  0.66  0.664 0.52  0.602\n",
      " 0.732 0.488 0.394 0.724 0.67  0.674 0.754 0.436 0.884 0.382 0.636 0.492\n",
      " 0.484 0.614 0.422 0.608 0.866 0.764 0.564 0.586 0.712 0.566 0.41  0.628\n",
      " 0.486 0.412 0.574 0.788 0.224 0.7   0.816 0.238 0.778 0.804 0.552 0.318\n",
      " 0.364 0.912 0.47  0.48  0.682 0.886 0.702 0.584 0.594 0.62  0.532 0.6\n",
      " 0.536 0.408 0.728 0.548 0.798 0.246 0.498 0.542 0.772 0.402 0.42  0.926\n",
      " 0.75  0.846 0.426 0.446 0.786 0.454 0.472 0.332 0.354 0.606 0.722 0.406\n",
      " 0.744 0.168 0.644 0.29  0.654 0.684 0.198 0.476 0.854 0.704 0.24  0.506\n",
      " 0.824 0.4   0.774 0.8   0.452 0.504 0.362 0.448 0.342 0.838 0.73  0.862\n",
      " 0.632 0.388 0.752 0.77  0.456 0.554 0.88  0.276 0.83  0.738 0.528 0.734\n",
      " 0.27  0.928 0.378 0.482 0.974 0.79  0.968 0.272 0.524 0.49  0.642 0.848\n",
      " 0.686 0.692 0.746 0.962 0.864 0.442 0.776 0.592 0.322 0.726 0.512 0.302\n",
      " 0.404 0.526 0.956 0.54  0.368 0.64  0.392 0.418 0.626 0.376 0.194 0.742\n",
      " 0.768 0.396 0.828 0.34  0.874 0.508 0.468 0.292 0.598 0.348 0.68  0.826\n",
      " 0.416 0.914 0.546 0.46  0.76  0.31  0.63  0.236 0.352 0.312 0.91  0.836\n",
      " 0.986 0.44  0.414 0.278 0.514 0.972 0.316 0.872 0.756 0.55  0.204 0.896\n",
      " 0.924 0.258 0.306 0.356 0.792 0.74  0.262 0.296 0.946 0.894 0.274 0.144\n",
      " 0.56  0.252 0.942 0.856 0.784 0.934 0.398 0.82  0.28  0.35  0.358 0.428\n",
      " 0.314 0.298 0.268 0.522 0.922 0.958 0.58  0.098 0.23  0.284 0.888 0.906\n",
      " 0.806 0.966 0.138 0.188 0.716 0.944 0.346 0.202 0.38  0.95  0.254 0.562\n",
      " 0.294 0.964 0.248 0.93  0.834 0.26  0.066 0.11  0.766 0.822 0.78  0.286\n",
      " 0.818 0.61  0.86  0.882 0.982 0.218 0.842 0.172 0.3   0.908 0.832 0.99\n",
      " 0.9   0.336 0.81  0.162 0.892 0.858 0.334 0.242 0.122 0.154 0.19  0.216\n",
      " 0.282 0.176 0.324 0.994 0.794 0.87  0.244 0.902 0.988 0.232 0.338 0.84\n",
      " 0.308 0.954 0.178 0.984 0.976 0.214 0.904 0.288 0.208 0.186 0.304 0.372\n",
      " 0.366 0.878 0.234 0.174 0.328 0.326 0.344 0.16  0.96  0.936 0.266 0.192\n",
      " 0.432 0.132 0.25  0.166 0.164 0.222 0.158 0.89  0.898 0.978 0.136 0.126\n",
      " 0.21  0.228 0.256 0.184 0.868 0.992 0.052 0.98  0.148 0.15  0.206 0.916\n",
      " 0.876 0.94  0.92  0.14  0.17  0.03  0.996 0.932 0.264 0.948 0.116 0.034\n",
      " 0.212 0.22  0.2   0.156 0.128 0.226 0.146 0.    0.102 0.134 0.152 0.124\n",
      " 0.182 0.13  0.016 0.142 0.196 0.026 0.12  0.046 0.108 0.18  0.064 0.018\n",
      " 0.072]\n",
      "Gender: [1 0]\n",
      "Age: [-0.68990393  0.21174055  0.09903499  0.43715167  3.70561291 -1.02802061\n",
      " -0.91531505 -0.46449281 -1.25343173  0.77526835 -0.35178725  0.66256279\n",
      " -1.47884285  0.54985723 -0.01367057  1.11338503 -1.36613729  1.00067947\n",
      "  0.32444611 -0.80260949 -1.81695953 -0.57719837 -0.23908169 -1.14072617\n",
      " -0.12637613  1.67691283 -1.92966509  1.45150171  3.14208511 -1.59154841\n",
      " -1.70425397  1.33879615  0.88797391  1.22609059  2.12773507  1.78961839\n",
      "  3.48020179  2.91667399  3.59290735  1.56420727  2.24044063 -2.04237065\n",
      "  2.57855731 -2.15507621  4.83266851  2.69126287  2.80396843  1.90232395\n",
      "  2.01502951  2.46585175  4.04372959  2.35314619  3.02937955 -2.26778177\n",
      "  3.81831847  3.25479067  4.15643515  4.71996295  3.93102403  5.05807962\n",
      "  4.60725739  3.36749623  5.28349074  4.26914071  4.38184627  4.94537406\n",
      "  5.17078518  6.07242966  4.49455183]\n",
      "Tenure: [0.8 0.4 0.9 0.1 0.7 0.6 0.2 0.5 1.  0.3 0. ]\n",
      "Balance: [0.69911305 0.71949695 0.         ... 0.49270032 0.43432742 0.46629948]\n",
      "NumOfProducts: [0.         0.33333333 0.66666667 1.        ]\n",
      "HasCrCard: [1 0]\n",
      "IsActiveMember: [0 1]\n",
      "EstimatedSalary: [0.86398676 0.85525003 0.28658537 ... 0.48970887 0.36766336 0.80296803]\n",
      "Churn: [1 0]\n",
      "Geography_France: [0 1]\n",
      "Geography_Germany: [1 0]\n",
      "Geography_Spain: [0 1]\n"
     ]
    }
   ],
   "source": [
    "for col in train_df:\n",
    "    print(f'{col}: {train_df[col].unique()}')"
   ]
  },
  {
   "cell_type": "markdown",
   "id": "10f2bd72-d3ed-41e4-a923-bed14cfe8283",
   "metadata": {},
   "source": [
    "## 5. Model training & evaluation\n",
    "\n",
    "I will fit three different classification models to our data. The first is a traditional logistic regression that will serve as a strong starting point. Then I will move on to a more robust technique of deep learning in two neural networks with different configurations. Once the modeling is finished, I will evaluate each model in order to identify the one that obtains the best results.\n",
    "\n",
    "### Model 1: Logistic Regression"
   ]
  },
  {
   "cell_type": "code",
   "execution_count": 15,
   "id": "ed26e107-fae0-4c87-a11f-0194cca9a40e",
   "metadata": {},
   "outputs": [
    {
     "name": "stdout",
     "output_type": "stream",
     "text": [
      "Accuracy: 0.8344161308782442\n",
      "Confusion Matrix:\n",
      "[[22366  1009]\n",
      " [ 3910  2422]]\n",
      "Classification Report:\n",
      "              precision    recall  f1-score   support\n",
      "\n",
      "           0       0.85      0.96      0.90     23375\n",
      "           1       0.71      0.38      0.50      6332\n",
      "\n",
      "    accuracy                           0.83     29707\n",
      "   macro avg       0.78      0.67      0.70     29707\n",
      "weighted avg       0.82      0.83      0.81     29707\n",
      "\n"
     ]
    }
   ],
   "source": [
    "import pandas as pd\n",
    "from sklearn.linear_model import LogisticRegression\n",
    "from sklearn.metrics import accuracy_score, confusion_matrix, classification_report\n",
    "from sklearn.model_selection import train_test_split\n",
    "\n",
    "# Separate features and target variable from the DataFrame\n",
    "X = train_df.drop('Churn', axis='columns')\n",
    "y = train_df['Churn']\n",
    "\n",
    "# Split the dataset into training and testing sets\n",
    "X_train, X_test, y_train, y_test = train_test_split(X, y, test_size=0.2, random_state=5)\n",
    "\n",
    "from sklearn.model_selection import GridSearchCV\n",
    "\n",
    "# Define the hyperparameter grid to search\n",
    "param_grid = {'C': [0.01, 0.1, 1, 10, 100]}\n",
    "\n",
    "# Set up GridSearchCV with Logistic Regression and the defined hyperparameter grid\n",
    "grid_search = GridSearchCV(LogisticRegression(), param_grid, cv=5)\n",
    "\n",
    "# Fit the model on the training data\n",
    "grid_search.fit(X_train, y_train)\n",
    "\n",
    "# Get the best model from the grid search\n",
    "best_model = grid_search.best_estimator_\n",
    "\n",
    "# Make predictions on the test set using the best model\n",
    "y_pred = best_model.predict(X_test)\n",
    "\n",
    "# Evaluate the model's accuracy\n",
    "accuracy = accuracy_score(y_test, y_pred)\n",
    "print(f\"Accuracy: {accuracy}\")\n",
    "\n",
    "# Generate the confusion matrix\n",
    "conf_matrix = confusion_matrix(y_test, y_pred)\n",
    "print(\"Confusion Matrix:\")\n",
    "print(conf_matrix)\n",
    "\n",
    "# Generate a classification report\n",
    "class_report = classification_report(y_test, y_pred)\n",
    "print(\"Classification Report:\")\n",
    "print(class_report)"
   ]
  },
  {
   "cell_type": "markdown",
   "id": "07a1d60d-f9f6-4b19-89c1-ea0de91afd06",
   "metadata": {},
   "source": [
    "### Model 2"
   ]
  },
  {
   "cell_type": "code",
   "execution_count": 16,
   "id": "3ef5113e-91a0-4745-8fe6-35bd3a53d7d5",
   "metadata": {},
   "outputs": [
    {
     "data": {
      "text/plain": [
       "True"
      ]
     },
     "execution_count": 16,
     "metadata": {},
     "output_type": "execute_result"
    }
   ],
   "source": [
    "X = train_df.drop('Churn',axis='columns')\n",
    "y = train_df['Churn']\n",
    "\n",
    "from sklearn.model_selection import train_test_split\n",
    "X_train, X_test, y_train, y_test = train_test_split(X,y,test_size=0.2,random_state=5)\n",
    "\n",
    "len(X_train.columns)==12"
   ]
  },
  {
   "cell_type": "code",
   "execution_count": 17,
   "id": "ce6096d3-79c4-4b35-9562-c6491f999d9f",
   "metadata": {},
   "outputs": [
    {
     "name": "stderr",
     "output_type": "stream",
     "text": [
      "2024-07-30 10:19:11.041371: I external/local_tsl/tsl/cuda/cudart_stub.cc:32] Could not find cuda drivers on your machine, GPU will not be used.\n",
      "2024-07-30 10:19:11.044765: I external/local_tsl/tsl/cuda/cudart_stub.cc:32] Could not find cuda drivers on your machine, GPU will not be used.\n",
      "2024-07-30 10:19:11.079528: I tensorflow/core/platform/cpu_feature_guard.cc:210] This TensorFlow binary is optimized to use available CPU instructions in performance-critical operations.\n",
      "To enable the following instructions: AVX2 FMA, in other operations, rebuild TensorFlow with the appropriate compiler flags.\n",
      "2024-07-30 10:19:11.946059: W tensorflow/compiler/tf2tensorrt/utils/py_utils.cc:38] TF-TRT Warning: Could not find TensorRT\n"
     ]
    },
    {
     "name": "stdout",
     "output_type": "stream",
     "text": [
      "Epoch 1/100\n"
     ]
    },
    {
     "name": "stderr",
     "output_type": "stream",
     "text": [
      "/home/memo/anaconda3/lib/python3.11/site-packages/keras/src/layers/core/dense.py:87: UserWarning: Do not pass an `input_shape`/`input_dim` argument to a layer. When using Sequential models, prefer using an `Input(shape)` object as the first layer in the model instead.\n",
      "  super().__init__(activity_regularizer=activity_regularizer, **kwargs)\n"
     ]
    },
    {
     "name": "stdout",
     "output_type": "stream",
     "text": [
      "\u001b[1m3714/3714\u001b[0m \u001b[32m━━━━━━━━━━━━━━━━━━━━\u001b[0m\u001b[37m\u001b[0m \u001b[1m4s\u001b[0m 842us/step - accuracy: 0.8173 - loss: 0.4285\n",
      "Epoch 2/100\n",
      "\u001b[1m3714/3714\u001b[0m \u001b[32m━━━━━━━━━━━━━━━━━━━━\u001b[0m\u001b[37m\u001b[0m \u001b[1m3s\u001b[0m 911us/step - accuracy: 0.8484 - loss: 0.3557\n",
      "Epoch 3/100\n",
      "\u001b[1m3714/3714\u001b[0m \u001b[32m━━━━━━━━━━━━━━━━━━━━\u001b[0m\u001b[37m\u001b[0m \u001b[1m2s\u001b[0m 662us/step - accuracy: 0.8595 - loss: 0.3308\n",
      "Epoch 4/100\n",
      "\u001b[1m3714/3714\u001b[0m \u001b[32m━━━━━━━━━━━━━━━━━━━━\u001b[0m\u001b[37m\u001b[0m \u001b[1m3s\u001b[0m 677us/step - accuracy: 0.8643 - loss: 0.3252\n",
      "Epoch 5/100\n",
      "\u001b[1m3714/3714\u001b[0m \u001b[32m━━━━━━━━━━━━━━━━━━━━\u001b[0m\u001b[37m\u001b[0m \u001b[1m2s\u001b[0m 668us/step - accuracy: 0.8627 - loss: 0.3276\n",
      "Epoch 6/100\n",
      "\u001b[1m3714/3714\u001b[0m \u001b[32m━━━━━━━━━━━━━━━━━━━━\u001b[0m\u001b[37m\u001b[0m \u001b[1m3s\u001b[0m 718us/step - accuracy: 0.8629 - loss: 0.3274\n",
      "Epoch 7/100\n",
      "\u001b[1m3714/3714\u001b[0m \u001b[32m━━━━━━━━━━━━━━━━━━━━\u001b[0m\u001b[37m\u001b[0m \u001b[1m3s\u001b[0m 711us/step - accuracy: 0.8648 - loss: 0.3246\n",
      "Epoch 8/100\n",
      "\u001b[1m3714/3714\u001b[0m \u001b[32m━━━━━━━━━━━━━━━━━━━━\u001b[0m\u001b[37m\u001b[0m \u001b[1m3s\u001b[0m 731us/step - accuracy: 0.8632 - loss: 0.3265\n",
      "Epoch 9/100\n",
      "\u001b[1m3714/3714\u001b[0m \u001b[32m━━━━━━━━━━━━━━━━━━━━\u001b[0m\u001b[37m\u001b[0m \u001b[1m5s\u001b[0m 699us/step - accuracy: 0.8637 - loss: 0.3264\n",
      "Epoch 10/100\n",
      "\u001b[1m3714/3714\u001b[0m \u001b[32m━━━━━━━━━━━━━━━━━━━━\u001b[0m\u001b[37m\u001b[0m \u001b[1m2s\u001b[0m 663us/step - accuracy: 0.8648 - loss: 0.3242\n",
      "Epoch 11/100\n",
      "\u001b[1m3714/3714\u001b[0m \u001b[32m━━━━━━━━━━━━━━━━━━━━\u001b[0m\u001b[37m\u001b[0m \u001b[1m2s\u001b[0m 655us/step - accuracy: 0.8639 - loss: 0.3260\n",
      "Epoch 12/100\n",
      "\u001b[1m3714/3714\u001b[0m \u001b[32m━━━━━━━━━━━━━━━━━━━━\u001b[0m\u001b[37m\u001b[0m \u001b[1m2s\u001b[0m 646us/step - accuracy: 0.8629 - loss: 0.3252\n",
      "Epoch 13/100\n",
      "\u001b[1m3714/3714\u001b[0m \u001b[32m━━━━━━━━━━━━━━━━━━━━\u001b[0m\u001b[37m\u001b[0m \u001b[1m3s\u001b[0m 735us/step - accuracy: 0.8643 - loss: 0.3239\n",
      "Epoch 14/100\n",
      "\u001b[1m3714/3714\u001b[0m \u001b[32m━━━━━━━━━━━━━━━━━━━━\u001b[0m\u001b[37m\u001b[0m \u001b[1m3s\u001b[0m 687us/step - accuracy: 0.8661 - loss: 0.3230\n",
      "Epoch 15/100\n",
      "\u001b[1m3714/3714\u001b[0m \u001b[32m━━━━━━━━━━━━━━━━━━━━\u001b[0m\u001b[37m\u001b[0m \u001b[1m2s\u001b[0m 615us/step - accuracy: 0.8641 - loss: 0.3242\n",
      "Epoch 16/100\n",
      "\u001b[1m3714/3714\u001b[0m \u001b[32m━━━━━━━━━━━━━━━━━━━━\u001b[0m\u001b[37m\u001b[0m \u001b[1m3s\u001b[0m 690us/step - accuracy: 0.8645 - loss: 0.3256\n",
      "Epoch 17/100\n",
      "\u001b[1m3714/3714\u001b[0m \u001b[32m━━━━━━━━━━━━━━━━━━━━\u001b[0m\u001b[37m\u001b[0m \u001b[1m3s\u001b[0m 717us/step - accuracy: 0.8648 - loss: 0.3225\n",
      "Epoch 18/100\n",
      "\u001b[1m3714/3714\u001b[0m \u001b[32m━━━━━━━━━━━━━━━━━━━━\u001b[0m\u001b[37m\u001b[0m \u001b[1m3s\u001b[0m 671us/step - accuracy: 0.8660 - loss: 0.3205\n",
      "Epoch 19/100\n",
      "\u001b[1m3714/3714\u001b[0m \u001b[32m━━━━━━━━━━━━━━━━━━━━\u001b[0m\u001b[37m\u001b[0m \u001b[1m3s\u001b[0m 688us/step - accuracy: 0.8622 - loss: 0.3247\n",
      "Epoch 20/100\n",
      "\u001b[1m3714/3714\u001b[0m \u001b[32m━━━━━━━━━━━━━━━━━━━━\u001b[0m\u001b[37m\u001b[0m \u001b[1m2s\u001b[0m 655us/step - accuracy: 0.8661 - loss: 0.3197\n",
      "Epoch 21/100\n",
      "\u001b[1m3714/3714\u001b[0m \u001b[32m━━━━━━━━━━━━━━━━━━━━\u001b[0m\u001b[37m\u001b[0m \u001b[1m3s\u001b[0m 768us/step - accuracy: 0.8653 - loss: 0.3198\n",
      "Epoch 22/100\n",
      "\u001b[1m3714/3714\u001b[0m \u001b[32m━━━━━━━━━━━━━━━━━━━━\u001b[0m\u001b[37m\u001b[0m \u001b[1m2s\u001b[0m 647us/step - accuracy: 0.8633 - loss: 0.3249\n",
      "Epoch 23/100\n",
      "\u001b[1m3714/3714\u001b[0m \u001b[32m━━━━━━━━━━━━━━━━━━━━\u001b[0m\u001b[37m\u001b[0m \u001b[1m3s\u001b[0m 708us/step - accuracy: 0.8640 - loss: 0.3254\n",
      "Epoch 24/100\n",
      "\u001b[1m3714/3714\u001b[0m \u001b[32m━━━━━━━━━━━━━━━━━━━━\u001b[0m\u001b[37m\u001b[0m \u001b[1m3s\u001b[0m 710us/step - accuracy: 0.8634 - loss: 0.3250\n",
      "Epoch 25/100\n",
      "\u001b[1m3714/3714\u001b[0m \u001b[32m━━━━━━━━━━━━━━━━━━━━\u001b[0m\u001b[37m\u001b[0m \u001b[1m3s\u001b[0m 705us/step - accuracy: 0.8635 - loss: 0.3255\n",
      "Epoch 26/100\n",
      "\u001b[1m3714/3714\u001b[0m \u001b[32m━━━━━━━━━━━━━━━━━━━━\u001b[0m\u001b[37m\u001b[0m \u001b[1m3s\u001b[0m 733us/step - accuracy: 0.8642 - loss: 0.3244\n",
      "Epoch 27/100\n",
      "\u001b[1m3714/3714\u001b[0m \u001b[32m━━━━━━━━━━━━━━━━━━━━\u001b[0m\u001b[37m\u001b[0m \u001b[1m3s\u001b[0m 799us/step - accuracy: 0.8655 - loss: 0.3212\n",
      "Epoch 28/100\n",
      "\u001b[1m3714/3714\u001b[0m \u001b[32m━━━━━━━━━━━━━━━━━━━━\u001b[0m\u001b[37m\u001b[0m \u001b[1m3s\u001b[0m 670us/step - accuracy: 0.8660 - loss: 0.3198\n",
      "Epoch 29/100\n",
      "\u001b[1m3714/3714\u001b[0m \u001b[32m━━━━━━━━━━━━━━━━━━━━\u001b[0m\u001b[37m\u001b[0m \u001b[1m3s\u001b[0m 699us/step - accuracy: 0.8636 - loss: 0.3230\n",
      "Epoch 30/100\n",
      "\u001b[1m3714/3714\u001b[0m \u001b[32m━━━━━━━━━━━━━━━━━━━━\u001b[0m\u001b[37m\u001b[0m \u001b[1m5s\u001b[0m 623us/step - accuracy: 0.8650 - loss: 0.3208\n",
      "Epoch 31/100\n",
      "\u001b[1m3714/3714\u001b[0m \u001b[32m━━━━━━━━━━━━━━━━━━━━\u001b[0m\u001b[37m\u001b[0m \u001b[1m2s\u001b[0m 615us/step - accuracy: 0.8663 - loss: 0.3211\n",
      "Epoch 32/100\n",
      "\u001b[1m3714/3714\u001b[0m \u001b[32m━━━━━━━━━━━━━━━━━━━━\u001b[0m\u001b[37m\u001b[0m \u001b[1m3s\u001b[0m 681us/step - accuracy: 0.8642 - loss: 0.3232\n",
      "Epoch 33/100\n",
      "\u001b[1m3714/3714\u001b[0m \u001b[32m━━━━━━━━━━━━━━━━━━━━\u001b[0m\u001b[37m\u001b[0m \u001b[1m3s\u001b[0m 687us/step - accuracy: 0.8636 - loss: 0.3241\n",
      "Epoch 34/100\n",
      "\u001b[1m3714/3714\u001b[0m \u001b[32m━━━━━━━━━━━━━━━━━━━━\u001b[0m\u001b[37m\u001b[0m \u001b[1m3s\u001b[0m 672us/step - accuracy: 0.8655 - loss: 0.3226\n",
      "Epoch 35/100\n",
      "\u001b[1m3714/3714\u001b[0m \u001b[32m━━━━━━━━━━━━━━━━━━━━\u001b[0m\u001b[37m\u001b[0m \u001b[1m3s\u001b[0m 719us/step - accuracy: 0.8655 - loss: 0.3204\n",
      "Epoch 36/100\n",
      "\u001b[1m3714/3714\u001b[0m \u001b[32m━━━━━━━━━━━━━━━━━━━━\u001b[0m\u001b[37m\u001b[0m \u001b[1m3s\u001b[0m 711us/step - accuracy: 0.8645 - loss: 0.3236\n",
      "Epoch 37/100\n",
      "\u001b[1m3714/3714\u001b[0m \u001b[32m━━━━━━━━━━━━━━━━━━━━\u001b[0m\u001b[37m\u001b[0m \u001b[1m3s\u001b[0m 784us/step - accuracy: 0.8658 - loss: 0.3211\n",
      "Epoch 38/100\n",
      "\u001b[1m3714/3714\u001b[0m \u001b[32m━━━━━━━━━━━━━━━━━━━━\u001b[0m\u001b[37m\u001b[0m \u001b[1m3s\u001b[0m 705us/step - accuracy: 0.8626 - loss: 0.3250\n",
      "Epoch 39/100\n",
      "\u001b[1m3714/3714\u001b[0m \u001b[32m━━━━━━━━━━━━━━━━━━━━\u001b[0m\u001b[37m\u001b[0m \u001b[1m3s\u001b[0m 693us/step - accuracy: 0.8649 - loss: 0.3205\n",
      "Epoch 40/100\n",
      "\u001b[1m3714/3714\u001b[0m \u001b[32m━━━━━━━━━━━━━━━━━━━━\u001b[0m\u001b[37m\u001b[0m \u001b[1m3s\u001b[0m 670us/step - accuracy: 0.8661 - loss: 0.3213\n",
      "Epoch 41/100\n",
      "\u001b[1m3714/3714\u001b[0m \u001b[32m━━━━━━━━━━━━━━━━━━━━\u001b[0m\u001b[37m\u001b[0m \u001b[1m3s\u001b[0m 722us/step - accuracy: 0.8645 - loss: 0.3220\n",
      "Epoch 42/100\n",
      "\u001b[1m3714/3714\u001b[0m \u001b[32m━━━━━━━━━━━━━━━━━━━━\u001b[0m\u001b[37m\u001b[0m \u001b[1m3s\u001b[0m 808us/step - accuracy: 0.8649 - loss: 0.3207\n",
      "Epoch 43/100\n",
      "\u001b[1m3714/3714\u001b[0m \u001b[32m━━━━━━━━━━━━━━━━━━━━\u001b[0m\u001b[37m\u001b[0m \u001b[1m3s\u001b[0m 717us/step - accuracy: 0.8646 - loss: 0.3226\n",
      "Epoch 44/100\n",
      "\u001b[1m3714/3714\u001b[0m \u001b[32m━━━━━━━━━━━━━━━━━━━━\u001b[0m\u001b[37m\u001b[0m \u001b[1m3s\u001b[0m 716us/step - accuracy: 0.8645 - loss: 0.3207\n",
      "Epoch 45/100\n",
      "\u001b[1m3714/3714\u001b[0m \u001b[32m━━━━━━━━━━━━━━━━━━━━\u001b[0m\u001b[37m\u001b[0m \u001b[1m3s\u001b[0m 716us/step - accuracy: 0.8648 - loss: 0.3223\n",
      "Epoch 46/100\n",
      "\u001b[1m3714/3714\u001b[0m \u001b[32m━━━━━━━━━━━━━━━━━━━━\u001b[0m\u001b[37m\u001b[0m \u001b[1m3s\u001b[0m 705us/step - accuracy: 0.8657 - loss: 0.3218\n",
      "Epoch 47/100\n",
      "\u001b[1m3714/3714\u001b[0m \u001b[32m━━━━━━━━━━━━━━━━━━━━\u001b[0m\u001b[37m\u001b[0m \u001b[1m3s\u001b[0m 826us/step - accuracy: 0.8642 - loss: 0.3222\n",
      "Epoch 48/100\n",
      "\u001b[1m3714/3714\u001b[0m \u001b[32m━━━━━━━━━━━━━━━━━━━━\u001b[0m\u001b[37m\u001b[0m \u001b[1m3s\u001b[0m 719us/step - accuracy: 0.8642 - loss: 0.3232\n",
      "Epoch 49/100\n",
      "\u001b[1m3714/3714\u001b[0m \u001b[32m━━━━━━━━━━━━━━━━━━━━\u001b[0m\u001b[37m\u001b[0m \u001b[1m3s\u001b[0m 690us/step - accuracy: 0.8659 - loss: 0.3200\n",
      "Epoch 50/100\n",
      "\u001b[1m3714/3714\u001b[0m \u001b[32m━━━━━━━━━━━━━━━━━━━━\u001b[0m\u001b[37m\u001b[0m \u001b[1m3s\u001b[0m 699us/step - accuracy: 0.8637 - loss: 0.3235\n",
      "Epoch 51/100\n",
      "\u001b[1m3714/3714\u001b[0m \u001b[32m━━━━━━━━━━━━━━━━━━━━\u001b[0m\u001b[37m\u001b[0m \u001b[1m3s\u001b[0m 696us/step - accuracy: 0.8664 - loss: 0.3198\n",
      "Epoch 52/100\n",
      "\u001b[1m3714/3714\u001b[0m \u001b[32m━━━━━━━━━━━━━━━━━━━━\u001b[0m\u001b[37m\u001b[0m \u001b[1m3s\u001b[0m 678us/step - accuracy: 0.8645 - loss: 0.3215\n",
      "Epoch 53/100\n",
      "\u001b[1m3714/3714\u001b[0m \u001b[32m━━━━━━━━━━━━━━━━━━━━\u001b[0m\u001b[37m\u001b[0m \u001b[1m3s\u001b[0m 829us/step - accuracy: 0.8665 - loss: 0.3201\n",
      "Epoch 54/100\n",
      "\u001b[1m3714/3714\u001b[0m \u001b[32m━━━━━━━━━━━━━━━━━━━━\u001b[0m\u001b[37m\u001b[0m \u001b[1m4s\u001b[0m 973us/step - accuracy: 0.8647 - loss: 0.3229\n",
      "Epoch 55/100\n",
      "\u001b[1m3714/3714\u001b[0m \u001b[32m━━━━━━━━━━━━━━━━━━━━\u001b[0m\u001b[37m\u001b[0m \u001b[1m3s\u001b[0m 771us/step - accuracy: 0.8661 - loss: 0.3211\n",
      "Epoch 56/100\n",
      "\u001b[1m3714/3714\u001b[0m \u001b[32m━━━━━━━━━━━━━━━━━━━━\u001b[0m\u001b[37m\u001b[0m \u001b[1m3s\u001b[0m 738us/step - accuracy: 0.8641 - loss: 0.3225\n",
      "Epoch 57/100\n",
      "\u001b[1m3714/3714\u001b[0m \u001b[32m━━━━━━━━━━━━━━━━━━━━\u001b[0m\u001b[37m\u001b[0m \u001b[1m2s\u001b[0m 668us/step - accuracy: 0.8639 - loss: 0.3225\n",
      "Epoch 58/100\n",
      "\u001b[1m3714/3714\u001b[0m \u001b[32m━━━━━━━━━━━━━━━━━━━━\u001b[0m\u001b[37m\u001b[0m \u001b[1m3s\u001b[0m 726us/step - accuracy: 0.8656 - loss: 0.3195\n",
      "Epoch 59/100\n",
      "\u001b[1m3714/3714\u001b[0m \u001b[32m━━━━━━━━━━━━━━━━━━━━\u001b[0m\u001b[37m\u001b[0m \u001b[1m3s\u001b[0m 828us/step - accuracy: 0.8648 - loss: 0.3230\n",
      "Epoch 60/100\n",
      "\u001b[1m3714/3714\u001b[0m \u001b[32m━━━━━━━━━━━━━━━━━━━━\u001b[0m\u001b[37m\u001b[0m \u001b[1m3s\u001b[0m 823us/step - accuracy: 0.8647 - loss: 0.3225\n",
      "Epoch 61/100\n",
      "\u001b[1m3714/3714\u001b[0m \u001b[32m━━━━━━━━━━━━━━━━━━━━\u001b[0m\u001b[37m\u001b[0m \u001b[1m3s\u001b[0m 814us/step - accuracy: 0.8640 - loss: 0.3231\n",
      "Epoch 62/100\n",
      "\u001b[1m3714/3714\u001b[0m \u001b[32m━━━━━━━━━━━━━━━━━━━━\u001b[0m\u001b[37m\u001b[0m \u001b[1m2s\u001b[0m 619us/step - accuracy: 0.8656 - loss: 0.3191\n",
      "Epoch 63/100\n",
      "\u001b[1m3714/3714\u001b[0m \u001b[32m━━━━━━━━━━━━━━━━━━━━\u001b[0m\u001b[37m\u001b[0m \u001b[1m2s\u001b[0m 657us/step - accuracy: 0.8649 - loss: 0.3238\n",
      "Epoch 64/100\n",
      "\u001b[1m3714/3714\u001b[0m \u001b[32m━━━━━━━━━━━━━━━━━━━━\u001b[0m\u001b[37m\u001b[0m \u001b[1m2s\u001b[0m 609us/step - accuracy: 0.8636 - loss: 0.3228\n",
      "Epoch 65/100\n",
      "\u001b[1m3714/3714\u001b[0m \u001b[32m━━━━━━━━━━━━━━━━━━━━\u001b[0m\u001b[37m\u001b[0m \u001b[1m3s\u001b[0m 689us/step - accuracy: 0.8659 - loss: 0.3204\n",
      "Epoch 66/100\n",
      "\u001b[1m3714/3714\u001b[0m \u001b[32m━━━━━━━━━━━━━━━━━━━━\u001b[0m\u001b[37m\u001b[0m \u001b[1m2s\u001b[0m 633us/step - accuracy: 0.8651 - loss: 0.3213\n",
      "Epoch 67/100\n",
      "\u001b[1m3714/3714\u001b[0m \u001b[32m━━━━━━━━━━━━━━━━━━━━\u001b[0m\u001b[37m\u001b[0m \u001b[1m3s\u001b[0m 724us/step - accuracy: 0.8662 - loss: 0.3212\n",
      "Epoch 68/100\n",
      "\u001b[1m3714/3714\u001b[0m \u001b[32m━━━━━━━━━━━━━━━━━━━━\u001b[0m\u001b[37m\u001b[0m \u001b[1m4s\u001b[0m 991us/step - accuracy: 0.8663 - loss: 0.3200\n",
      "Epoch 69/100\n",
      "\u001b[1m3714/3714\u001b[0m \u001b[32m━━━━━━━━━━━━━━━━━━━━\u001b[0m\u001b[37m\u001b[0m \u001b[1m4s\u001b[0m 1ms/step - accuracy: 0.8656 - loss: 0.3227\n",
      "Epoch 70/100\n",
      "\u001b[1m3714/3714\u001b[0m \u001b[32m━━━━━━━━━━━━━━━━━━━━\u001b[0m\u001b[37m\u001b[0m \u001b[1m3s\u001b[0m 897us/step - accuracy: 0.8644 - loss: 0.3220\n",
      "Epoch 71/100\n",
      "\u001b[1m3714/3714\u001b[0m \u001b[32m━━━━━━━━━━━━━━━━━━━━\u001b[0m\u001b[37m\u001b[0m \u001b[1m4s\u001b[0m 1ms/step - accuracy: 0.8642 - loss: 0.3225\n",
      "Epoch 72/100\n",
      "\u001b[1m3714/3714\u001b[0m \u001b[32m━━━━━━━━━━━━━━━━━━━━\u001b[0m\u001b[37m\u001b[0m \u001b[1m4s\u001b[0m 943us/step - accuracy: 0.8646 - loss: 0.3214\n",
      "Epoch 73/100\n",
      "\u001b[1m3714/3714\u001b[0m \u001b[32m━━━━━━━━━━━━━━━━━━━━\u001b[0m\u001b[37m\u001b[0m \u001b[1m3s\u001b[0m 833us/step - accuracy: 0.8636 - loss: 0.3225\n",
      "Epoch 74/100\n",
      "\u001b[1m3714/3714\u001b[0m \u001b[32m━━━━━━━━━━━━━━━━━━━━\u001b[0m\u001b[37m\u001b[0m \u001b[1m3s\u001b[0m 791us/step - accuracy: 0.8632 - loss: 0.3238\n",
      "Epoch 75/100\n",
      "\u001b[1m3714/3714\u001b[0m \u001b[32m━━━━━━━━━━━━━━━━━━━━\u001b[0m\u001b[37m\u001b[0m \u001b[1m4s\u001b[0m 958us/step - accuracy: 0.8655 - loss: 0.3211\n",
      "Epoch 76/100\n",
      "\u001b[1m3714/3714\u001b[0m \u001b[32m━━━━━━━━━━━━━━━━━━━━\u001b[0m\u001b[37m\u001b[0m \u001b[1m3s\u001b[0m 810us/step - accuracy: 0.8648 - loss: 0.3225\n",
      "Epoch 77/100\n",
      "\u001b[1m3714/3714\u001b[0m \u001b[32m━━━━━━━━━━━━━━━━━━━━\u001b[0m\u001b[37m\u001b[0m \u001b[1m3s\u001b[0m 704us/step - accuracy: 0.8644 - loss: 0.3216\n",
      "Epoch 78/100\n",
      "\u001b[1m3714/3714\u001b[0m \u001b[32m━━━━━━━━━━━━━━━━━━━━\u001b[0m\u001b[37m\u001b[0m \u001b[1m4s\u001b[0m 982us/step - accuracy: 0.8629 - loss: 0.3242\n",
      "Epoch 79/100\n",
      "\u001b[1m3714/3714\u001b[0m \u001b[32m━━━━━━━━━━━━━━━━━━━━\u001b[0m\u001b[37m\u001b[0m \u001b[1m3s\u001b[0m 886us/step - accuracy: 0.8672 - loss: 0.3185\n",
      "Epoch 80/100\n",
      "\u001b[1m3714/3714\u001b[0m \u001b[32m━━━━━━━━━━━━━━━━━━━━\u001b[0m\u001b[37m\u001b[0m \u001b[1m3s\u001b[0m 809us/step - accuracy: 0.8661 - loss: 0.3195\n",
      "Epoch 81/100\n",
      "\u001b[1m3714/3714\u001b[0m \u001b[32m━━━━━━━━━━━━━━━━━━━━\u001b[0m\u001b[37m\u001b[0m \u001b[1m3s\u001b[0m 834us/step - accuracy: 0.8652 - loss: 0.3206\n",
      "Epoch 82/100\n",
      "\u001b[1m3714/3714\u001b[0m \u001b[32m━━━━━━━━━━━━━━━━━━━━\u001b[0m\u001b[37m\u001b[0m \u001b[1m3s\u001b[0m 766us/step - accuracy: 0.8662 - loss: 0.3198\n",
      "Epoch 83/100\n",
      "\u001b[1m3714/3714\u001b[0m \u001b[32m━━━━━━━━━━━━━━━━━━━━\u001b[0m\u001b[37m\u001b[0m \u001b[1m4s\u001b[0m 1ms/step - accuracy: 0.8647 - loss: 0.3213\n",
      "Epoch 84/100\n",
      "\u001b[1m3714/3714\u001b[0m \u001b[32m━━━━━━━━━━━━━━━━━━━━\u001b[0m\u001b[37m\u001b[0m \u001b[1m4s\u001b[0m 1ms/step - accuracy: 0.8661 - loss: 0.3192\n",
      "Epoch 85/100\n",
      "\u001b[1m3714/3714\u001b[0m \u001b[32m━━━━━━━━━━━━━━━━━━━━\u001b[0m\u001b[37m\u001b[0m \u001b[1m4s\u001b[0m 832us/step - accuracy: 0.8636 - loss: 0.3220\n",
      "Epoch 86/100\n",
      "\u001b[1m3714/3714\u001b[0m \u001b[32m━━━━━━━━━━━━━━━━━━━━\u001b[0m\u001b[37m\u001b[0m \u001b[1m3s\u001b[0m 724us/step - accuracy: 0.8641 - loss: 0.3228\n",
      "Epoch 87/100\n",
      "\u001b[1m3714/3714\u001b[0m \u001b[32m━━━━━━━━━━━━━━━━━━━━\u001b[0m\u001b[37m\u001b[0m \u001b[1m3s\u001b[0m 916us/step - accuracy: 0.8666 - loss: 0.3191\n",
      "Epoch 88/100\n",
      "\u001b[1m3714/3714\u001b[0m \u001b[32m━━━━━━━━━━━━━━━━━━━━\u001b[0m\u001b[37m\u001b[0m \u001b[1m3s\u001b[0m 900us/step - accuracy: 0.8632 - loss: 0.3231\n",
      "Epoch 89/100\n",
      "\u001b[1m3714/3714\u001b[0m \u001b[32m━━━━━━━━━━━━━━━━━━━━\u001b[0m\u001b[37m\u001b[0m \u001b[1m4s\u001b[0m 1ms/step - accuracy: 0.8657 - loss: 0.3196\n",
      "Epoch 90/100\n",
      "\u001b[1m3714/3714\u001b[0m \u001b[32m━━━━━━━━━━━━━━━━━━━━\u001b[0m\u001b[37m\u001b[0m \u001b[1m4s\u001b[0m 1ms/step - accuracy: 0.8653 - loss: 0.3214\n",
      "Epoch 91/100\n",
      "\u001b[1m3714/3714\u001b[0m \u001b[32m━━━━━━━━━━━━━━━━━━━━\u001b[0m\u001b[37m\u001b[0m \u001b[1m5s\u001b[0m 1ms/step - accuracy: 0.8684 - loss: 0.3168\n",
      "Epoch 92/100\n",
      "\u001b[1m3714/3714\u001b[0m \u001b[32m━━━━━━━━━━━━━━━━━━━━\u001b[0m\u001b[37m\u001b[0m \u001b[1m3s\u001b[0m 893us/step - accuracy: 0.8661 - loss: 0.3203\n",
      "Epoch 93/100\n",
      "\u001b[1m3714/3714\u001b[0m \u001b[32m━━━━━━━━━━━━━━━━━━━━\u001b[0m\u001b[37m\u001b[0m \u001b[1m5s\u001b[0m 746us/step - accuracy: 0.8645 - loss: 0.3207\n",
      "Epoch 94/100\n",
      "\u001b[1m3714/3714\u001b[0m \u001b[32m━━━━━━━━━━━━━━━━━━━━\u001b[0m\u001b[37m\u001b[0m \u001b[1m4s\u001b[0m 942us/step - accuracy: 0.8648 - loss: 0.3211\n",
      "Epoch 95/100\n",
      "\u001b[1m3714/3714\u001b[0m \u001b[32m━━━━━━━━━━━━━━━━━━━━\u001b[0m\u001b[37m\u001b[0m \u001b[1m4s\u001b[0m 940us/step - accuracy: 0.8646 - loss: 0.3246\n",
      "Epoch 96/100\n",
      "\u001b[1m3714/3714\u001b[0m \u001b[32m━━━━━━━━━━━━━━━━━━━━\u001b[0m\u001b[37m\u001b[0m \u001b[1m3s\u001b[0m 840us/step - accuracy: 0.8656 - loss: 0.3232\n",
      "Epoch 97/100\n",
      "\u001b[1m3714/3714\u001b[0m \u001b[32m━━━━━━━━━━━━━━━━━━━━\u001b[0m\u001b[37m\u001b[0m \u001b[1m3s\u001b[0m 791us/step - accuracy: 0.8652 - loss: 0.3210\n",
      "Epoch 98/100\n",
      "\u001b[1m3714/3714\u001b[0m \u001b[32m━━━━━━━━━━━━━━━━━━━━\u001b[0m\u001b[37m\u001b[0m \u001b[1m3s\u001b[0m 808us/step - accuracy: 0.8658 - loss: 0.3211\n",
      "Epoch 99/100\n",
      "\u001b[1m3714/3714\u001b[0m \u001b[32m━━━━━━━━━━━━━━━━━━━━\u001b[0m\u001b[37m\u001b[0m \u001b[1m3s\u001b[0m 848us/step - accuracy: 0.8632 - loss: 0.3218\n",
      "Epoch 100/100\n",
      "\u001b[1m3714/3714\u001b[0m \u001b[32m━━━━━━━━━━━━━━━━━━━━\u001b[0m\u001b[37m\u001b[0m \u001b[1m3s\u001b[0m 866us/step - accuracy: 0.8644 - loss: 0.3233\n"
     ]
    },
    {
     "data": {
      "text/plain": [
       "<keras.src.callbacks.history.History at 0x7d68a141c190>"
      ]
     },
     "execution_count": 17,
     "metadata": {},
     "output_type": "execute_result"
    }
   ],
   "source": [
    "# Model trainning\n",
    "import tensorflow as tf\n",
    "from tensorflow import keras\n",
    "\n",
    "\n",
    "model2 = keras.Sequential([\n",
    "    keras.layers.Dense(12, input_shape=(12,), activation='relu'),\n",
    "    keras.layers.Dense(7, activation='relu'),\n",
    "    keras.layers.Dense(1, activation='sigmoid')\n",
    "])\n",
    "\n",
    "# opt = keras.optimizers.Adam(learning_rate=0.01)\n",
    "\n",
    "model2.compile(optimizer='adam',\n",
    "              loss='binary_crossentropy',\n",
    "              metrics=['accuracy'])\n",
    "\n",
    "model2.fit(X_train, y_train, epochs=100)"
   ]
  },
  {
   "cell_type": "code",
   "execution_count": 18,
   "id": "129b8d4c-2d8f-4fd9-9192-77c6ee53ecfb",
   "metadata": {},
   "outputs": [
    {
     "name": "stdout",
     "output_type": "stream",
     "text": [
      "\u001b[1m929/929\u001b[0m \u001b[32m━━━━━━━━━━━━━━━━━━━━\u001b[0m\u001b[37m\u001b[0m \u001b[1m1s\u001b[0m 705us/step - accuracy: 0.8645 - loss: 0.3243\n"
     ]
    },
    {
     "data": {
      "text/plain": [
       "[0.32276979088783264, 0.865284264087677]"
      ]
     },
     "execution_count": 18,
     "metadata": {},
     "output_type": "execute_result"
    }
   ],
   "source": [
    "# Model Evaluating\n",
    "model2.evaluate(X_test, y_test)"
   ]
  },
  {
   "cell_type": "code",
   "execution_count": 19,
   "id": "145b9f54-709d-4ba3-90f1-cecdd52aa386",
   "metadata": {},
   "outputs": [
    {
     "name": "stdout",
     "output_type": "stream",
     "text": [
      "\u001b[1m929/929\u001b[0m \u001b[32m━━━━━━━━━━━━━━━━━━━━\u001b[0m\u001b[37m\u001b[0m \u001b[1m1s\u001b[0m 756us/step\n",
      "              precision    recall  f1-score   support\n",
      "\n",
      "           0       0.88      0.96      0.92     23375\n",
      "           1       0.79      0.50      0.61      6332\n",
      "\n",
      "    accuracy                           0.87     29707\n",
      "   macro avg       0.83      0.73      0.77     29707\n",
      "weighted avg       0.86      0.87      0.85     29707\n",
      "\n"
     ]
    }
   ],
   "source": [
    "yp2 = model2.predict(X_test)\n",
    "yp2[:5]\n",
    "\n",
    "y_pred2 = []\n",
    "for element in yp2:\n",
    "    if element > 0.5:\n",
    "        y_pred2.append(1)\n",
    "    else:\n",
    "        y_pred2.append(0)\n",
    "\n",
    "print(classification_report(y_test,y_pred2))"
   ]
  },
  {
   "cell_type": "markdown",
   "id": "be593715-faf4-4e36-9c53-63734f3040a2",
   "metadata": {},
   "source": [
    "### Model 3"
   ]
  },
  {
   "cell_type": "code",
   "execution_count": 20,
   "id": "749bec69-4832-4fcb-97d8-69056920feed",
   "metadata": {},
   "outputs": [
    {
     "name": "stdout",
     "output_type": "stream",
     "text": [
      "Epoch 1/100\n"
     ]
    },
    {
     "name": "stderr",
     "output_type": "stream",
     "text": [
      "/home/memo/anaconda3/lib/python3.11/site-packages/keras/src/layers/core/dense.py:87: UserWarning: Do not pass an `input_shape`/`input_dim` argument to a layer. When using Sequential models, prefer using an `Input(shape)` object as the first layer in the model instead.\n",
      "  super().__init__(activity_regularizer=activity_regularizer, **kwargs)\n"
     ]
    },
    {
     "name": "stdout",
     "output_type": "stream",
     "text": [
      "\u001b[1m3714/3714\u001b[0m \u001b[32m━━━━━━━━━━━━━━━━━━━━\u001b[0m\u001b[37m\u001b[0m \u001b[1m4s\u001b[0m 807us/step - accuracy: 0.8171 - loss: 0.4189\n",
      "Epoch 2/100\n",
      "\u001b[1m3714/3714\u001b[0m \u001b[32m━━━━━━━━━━━━━━━━━━━━\u001b[0m\u001b[37m\u001b[0m \u001b[1m3s\u001b[0m 746us/step - accuracy: 0.8494 - loss: 0.3579\n",
      "Epoch 3/100\n",
      "\u001b[1m3714/3714\u001b[0m \u001b[32m━━━━━━━━━━━━━━━━━━━━\u001b[0m\u001b[37m\u001b[0m \u001b[1m3s\u001b[0m 864us/step - accuracy: 0.8560 - loss: 0.3376\n",
      "Epoch 4/100\n",
      "\u001b[1m3714/3714\u001b[0m \u001b[32m━━━━━━━━━━━━━━━━━━━━\u001b[0m\u001b[37m\u001b[0m \u001b[1m3s\u001b[0m 855us/step - accuracy: 0.8635 - loss: 0.3249\n",
      "Epoch 5/100\n",
      "\u001b[1m3714/3714\u001b[0m \u001b[32m━━━━━━━━━━━━━━━━━━━━\u001b[0m\u001b[37m\u001b[0m \u001b[1m4s\u001b[0m 1ms/step - accuracy: 0.8629 - loss: 0.3277\n",
      "Epoch 6/100\n",
      "\u001b[1m3714/3714\u001b[0m \u001b[32m━━━━━━━━━━━━━━━━━━━━\u001b[0m\u001b[37m\u001b[0m \u001b[1m3s\u001b[0m 876us/step - accuracy: 0.8615 - loss: 0.3288\n",
      "Epoch 7/100\n",
      "\u001b[1m3714/3714\u001b[0m \u001b[32m━━━━━━━━━━━━━━━━━━━━\u001b[0m\u001b[37m\u001b[0m \u001b[1m4s\u001b[0m 1ms/step - accuracy: 0.8637 - loss: 0.3260\n",
      "Epoch 8/100\n",
      "\u001b[1m3714/3714\u001b[0m \u001b[32m━━━━━━━━━━━━━━━━━━━━\u001b[0m\u001b[37m\u001b[0m \u001b[1m4s\u001b[0m 1ms/step - accuracy: 0.8647 - loss: 0.3251\n",
      "Epoch 9/100\n",
      "\u001b[1m3714/3714\u001b[0m \u001b[32m━━━━━━━━━━━━━━━━━━━━\u001b[0m\u001b[37m\u001b[0m \u001b[1m4s\u001b[0m 1ms/step - accuracy: 0.8640 - loss: 0.3247\n",
      "Epoch 10/100\n",
      "\u001b[1m3714/3714\u001b[0m \u001b[32m━━━━━━━━━━━━━━━━━━━━\u001b[0m\u001b[37m\u001b[0m \u001b[1m3s\u001b[0m 928us/step - accuracy: 0.8627 - loss: 0.3256\n",
      "Epoch 11/100\n",
      "\u001b[1m3714/3714\u001b[0m \u001b[32m━━━━━━━━━━━━━━━━━━━━\u001b[0m\u001b[37m\u001b[0m \u001b[1m3s\u001b[0m 884us/step - accuracy: 0.8636 - loss: 0.3258\n",
      "Epoch 12/100\n",
      "\u001b[1m3714/3714\u001b[0m \u001b[32m━━━━━━━━━━━━━━━━━━━━\u001b[0m\u001b[37m\u001b[0m \u001b[1m4s\u001b[0m 1ms/step - accuracy: 0.8622 - loss: 0.3282\n",
      "Epoch 13/100\n",
      "\u001b[1m3714/3714\u001b[0m \u001b[32m━━━━━━━━━━━━━━━━━━━━\u001b[0m\u001b[37m\u001b[0m \u001b[1m3s\u001b[0m 931us/step - accuracy: 0.8618 - loss: 0.3296\n",
      "Epoch 14/100\n",
      "\u001b[1m3714/3714\u001b[0m \u001b[32m━━━━━━━━━━━━━━━━━━━━\u001b[0m\u001b[37m\u001b[0m \u001b[1m3s\u001b[0m 848us/step - accuracy: 0.8626 - loss: 0.3251\n",
      "Epoch 15/100\n",
      "\u001b[1m3714/3714\u001b[0m \u001b[32m━━━━━━━━━━━━━━━━━━━━\u001b[0m\u001b[37m\u001b[0m \u001b[1m3s\u001b[0m 835us/step - accuracy: 0.8636 - loss: 0.3259\n",
      "Epoch 16/100\n",
      "\u001b[1m3714/3714\u001b[0m \u001b[32m━━━━━━━━━━━━━━━━━━━━\u001b[0m\u001b[37m\u001b[0m \u001b[1m5s\u001b[0m 871us/step - accuracy: 0.8639 - loss: 0.3236\n",
      "Epoch 17/100\n",
      "\u001b[1m3714/3714\u001b[0m \u001b[32m━━━━━━━━━━━━━━━━━━━━\u001b[0m\u001b[37m\u001b[0m \u001b[1m3s\u001b[0m 690us/step - accuracy: 0.8637 - loss: 0.3252\n",
      "Epoch 18/100\n",
      "\u001b[1m3714/3714\u001b[0m \u001b[32m━━━━━━━━━━━━━━━━━━━━\u001b[0m\u001b[37m\u001b[0m \u001b[1m3s\u001b[0m 814us/step - accuracy: 0.8641 - loss: 0.3242\n",
      "Epoch 19/100\n",
      "\u001b[1m3714/3714\u001b[0m \u001b[32m━━━━━━━━━━━━━━━━━━━━\u001b[0m\u001b[37m\u001b[0m \u001b[1m4s\u001b[0m 1ms/step - accuracy: 0.8636 - loss: 0.3262\n",
      "Epoch 20/100\n",
      "\u001b[1m3714/3714\u001b[0m \u001b[32m━━━━━━━━━━━━━━━━━━━━\u001b[0m\u001b[37m\u001b[0m \u001b[1m3s\u001b[0m 916us/step - accuracy: 0.8642 - loss: 0.3243\n",
      "Epoch 21/100\n",
      "\u001b[1m3714/3714\u001b[0m \u001b[32m━━━━━━━━━━━━━━━━━━━━\u001b[0m\u001b[37m\u001b[0m \u001b[1m3s\u001b[0m 863us/step - accuracy: 0.8650 - loss: 0.3225\n",
      "Epoch 22/100\n",
      "\u001b[1m3714/3714\u001b[0m \u001b[32m━━━━━━━━━━━━━━━━━━━━\u001b[0m\u001b[37m\u001b[0m \u001b[1m3s\u001b[0m 792us/step - accuracy: 0.8641 - loss: 0.3245\n",
      "Epoch 23/100\n",
      "\u001b[1m3714/3714\u001b[0m \u001b[32m━━━━━━━━━━━━━━━━━━━━\u001b[0m\u001b[37m\u001b[0m \u001b[1m4s\u001b[0m 945us/step - accuracy: 0.8642 - loss: 0.3241\n",
      "Epoch 24/100\n",
      "\u001b[1m3714/3714\u001b[0m \u001b[32m━━━━━━━━━━━━━━━━━━━━\u001b[0m\u001b[37m\u001b[0m \u001b[1m3s\u001b[0m 933us/step - accuracy: 0.8645 - loss: 0.3244\n",
      "Epoch 25/100\n",
      "\u001b[1m3714/3714\u001b[0m \u001b[32m━━━━━━━━━━━━━━━━━━━━\u001b[0m\u001b[37m\u001b[0m \u001b[1m5s\u001b[0m 874us/step - accuracy: 0.8646 - loss: 0.3245\n",
      "Epoch 26/100\n",
      "\u001b[1m3714/3714\u001b[0m \u001b[32m━━━━━━━━━━━━━━━━━━━━\u001b[0m\u001b[37m\u001b[0m \u001b[1m4s\u001b[0m 1ms/step - accuracy: 0.8640 - loss: 0.3257\n",
      "Epoch 27/100\n",
      "\u001b[1m3714/3714\u001b[0m \u001b[32m━━━━━━━━━━━━━━━━━━━━\u001b[0m\u001b[37m\u001b[0m \u001b[1m6s\u001b[0m 1ms/step - accuracy: 0.8648 - loss: 0.3222\n",
      "Epoch 28/100\n",
      "\u001b[1m3714/3714\u001b[0m \u001b[32m━━━━━━━━━━━━━━━━━━━━\u001b[0m\u001b[37m\u001b[0m \u001b[1m5s\u001b[0m 1ms/step - accuracy: 0.8649 - loss: 0.3224\n",
      "Epoch 29/100\n",
      "\u001b[1m3714/3714\u001b[0m \u001b[32m━━━━━━━━━━━━━━━━━━━━\u001b[0m\u001b[37m\u001b[0m \u001b[1m4s\u001b[0m 1ms/step - accuracy: 0.8642 - loss: 0.3238\n",
      "Epoch 30/100\n",
      "\u001b[1m3714/3714\u001b[0m \u001b[32m━━━━━━━━━━━━━━━━━━━━\u001b[0m\u001b[37m\u001b[0m \u001b[1m4s\u001b[0m 1ms/step - accuracy: 0.8633 - loss: 0.3247\n",
      "Epoch 31/100\n",
      "\u001b[1m3714/3714\u001b[0m \u001b[32m━━━━━━━━━━━━━━━━━━━━\u001b[0m\u001b[37m\u001b[0m \u001b[1m4s\u001b[0m 1ms/step - accuracy: 0.8650 - loss: 0.3224\n",
      "Epoch 32/100\n",
      "\u001b[1m3714/3714\u001b[0m \u001b[32m━━━━━━━━━━━━━━━━━━━━\u001b[0m\u001b[37m\u001b[0m \u001b[1m4s\u001b[0m 1ms/step - accuracy: 0.8645 - loss: 0.3224\n",
      "Epoch 33/100\n",
      "\u001b[1m3714/3714\u001b[0m \u001b[32m━━━━━━━━━━━━━━━━━━━━\u001b[0m\u001b[37m\u001b[0m \u001b[1m4s\u001b[0m 973us/step - accuracy: 0.8638 - loss: 0.3226\n",
      "Epoch 34/100\n",
      "\u001b[1m3714/3714\u001b[0m \u001b[32m━━━━━━━━━━━━━━━━━━━━\u001b[0m\u001b[37m\u001b[0m \u001b[1m4s\u001b[0m 948us/step - accuracy: 0.8649 - loss: 0.3235\n",
      "Epoch 35/100\n",
      "\u001b[1m3714/3714\u001b[0m \u001b[32m━━━━━━━━━━━━━━━━━━━━\u001b[0m\u001b[37m\u001b[0m \u001b[1m3s\u001b[0m 912us/step - accuracy: 0.8638 - loss: 0.3231\n",
      "Epoch 36/100\n",
      "\u001b[1m3714/3714\u001b[0m \u001b[32m━━━━━━━━━━━━━━━━━━━━\u001b[0m\u001b[37m\u001b[0m \u001b[1m3s\u001b[0m 887us/step - accuracy: 0.8630 - loss: 0.3254\n",
      "Epoch 37/100\n",
      "\u001b[1m3714/3714\u001b[0m \u001b[32m━━━━━━━━━━━━━━━━━━━━\u001b[0m\u001b[37m\u001b[0m \u001b[1m4s\u001b[0m 1ms/step - accuracy: 0.8653 - loss: 0.3214\n",
      "Epoch 38/100\n",
      "\u001b[1m3714/3714\u001b[0m \u001b[32m━━━━━━━━━━━━━━━━━━━━\u001b[0m\u001b[37m\u001b[0m \u001b[1m4s\u001b[0m 1ms/step - accuracy: 0.8644 - loss: 0.3248\n",
      "Epoch 39/100\n",
      "\u001b[1m3714/3714\u001b[0m \u001b[32m━━━━━━━━━━━━━━━━━━━━\u001b[0m\u001b[37m\u001b[0m \u001b[1m4s\u001b[0m 1ms/step - accuracy: 0.8650 - loss: 0.3224\n",
      "Epoch 40/100\n",
      "\u001b[1m3714/3714\u001b[0m \u001b[32m━━━━━━━━━━━━━━━━━━━━\u001b[0m\u001b[37m\u001b[0m \u001b[1m4s\u001b[0m 939us/step - accuracy: 0.8650 - loss: 0.3191\n",
      "Epoch 41/100\n",
      "\u001b[1m3714/3714\u001b[0m \u001b[32m━━━━━━━━━━━━━━━━━━━━\u001b[0m\u001b[37m\u001b[0m \u001b[1m3s\u001b[0m 783us/step - accuracy: 0.8654 - loss: 0.3210\n",
      "Epoch 42/100\n",
      "\u001b[1m3714/3714\u001b[0m \u001b[32m━━━━━━━━━━━━━━━━━━━━\u001b[0m\u001b[37m\u001b[0m \u001b[1m3s\u001b[0m 716us/step - accuracy: 0.8645 - loss: 0.3211\n",
      "Epoch 43/100\n",
      "\u001b[1m3714/3714\u001b[0m \u001b[32m━━━━━━━━━━━━━━━━━━━━\u001b[0m\u001b[37m\u001b[0m \u001b[1m3s\u001b[0m 862us/step - accuracy: 0.8648 - loss: 0.3231\n",
      "Epoch 44/100\n",
      "\u001b[1m3714/3714\u001b[0m \u001b[32m━━━━━━━━━━━━━━━━━━━━\u001b[0m\u001b[37m\u001b[0m \u001b[1m3s\u001b[0m 693us/step - accuracy: 0.8639 - loss: 0.3221\n",
      "Epoch 45/100\n",
      "\u001b[1m3714/3714\u001b[0m \u001b[32m━━━━━━━━━━━━━━━━━━━━\u001b[0m\u001b[37m\u001b[0m \u001b[1m3s\u001b[0m 779us/step - accuracy: 0.8633 - loss: 0.3237\n",
      "Epoch 46/100\n",
      "\u001b[1m3714/3714\u001b[0m \u001b[32m━━━━━━━━━━━━━━━━━━━━\u001b[0m\u001b[37m\u001b[0m \u001b[1m3s\u001b[0m 679us/step - accuracy: 0.8648 - loss: 0.3215\n",
      "Epoch 47/100\n",
      "\u001b[1m3714/3714\u001b[0m \u001b[32m━━━━━━━━━━━━━━━━━━━━\u001b[0m\u001b[37m\u001b[0m \u001b[1m3s\u001b[0m 812us/step - accuracy: 0.8653 - loss: 0.3213\n",
      "Epoch 48/100\n",
      "\u001b[1m3714/3714\u001b[0m \u001b[32m━━━━━━━━━━━━━━━━━━━━\u001b[0m\u001b[37m\u001b[0m \u001b[1m4s\u001b[0m 1ms/step - accuracy: 0.8635 - loss: 0.3239\n",
      "Epoch 49/100\n",
      "\u001b[1m3714/3714\u001b[0m \u001b[32m━━━━━━━━━━━━━━━━━━━━\u001b[0m\u001b[37m\u001b[0m \u001b[1m4s\u001b[0m 1ms/step - accuracy: 0.8644 - loss: 0.3234\n",
      "Epoch 50/100\n",
      "\u001b[1m3714/3714\u001b[0m \u001b[32m━━━━━━━━━━━━━━━━━━━━\u001b[0m\u001b[37m\u001b[0m \u001b[1m3s\u001b[0m 863us/step - accuracy: 0.8639 - loss: 0.3241\n",
      "Epoch 51/100\n",
      "\u001b[1m3714/3714\u001b[0m \u001b[32m━━━━━━━━━━━━━━━━━━━━\u001b[0m\u001b[37m\u001b[0m \u001b[1m3s\u001b[0m 834us/step - accuracy: 0.8650 - loss: 0.3207\n",
      "Epoch 52/100\n",
      "\u001b[1m3714/3714\u001b[0m \u001b[32m━━━━━━━━━━━━━━━━━━━━\u001b[0m\u001b[37m\u001b[0m \u001b[1m3s\u001b[0m 827us/step - accuracy: 0.8631 - loss: 0.3234\n",
      "Epoch 53/100\n",
      "\u001b[1m3714/3714\u001b[0m \u001b[32m━━━━━━━━━━━━━━━━━━━━\u001b[0m\u001b[37m\u001b[0m \u001b[1m3s\u001b[0m 839us/step - accuracy: 0.8662 - loss: 0.3195\n",
      "Epoch 54/100\n",
      "\u001b[1m3714/3714\u001b[0m \u001b[32m━━━━━━━━━━━━━━━━━━━━\u001b[0m\u001b[37m\u001b[0m \u001b[1m3s\u001b[0m 806us/step - accuracy: 0.8646 - loss: 0.3218\n",
      "Epoch 55/100\n",
      "\u001b[1m3714/3714\u001b[0m \u001b[32m━━━━━━━━━━━━━━━━━━━━\u001b[0m\u001b[37m\u001b[0m \u001b[1m3s\u001b[0m 816us/step - accuracy: 0.8649 - loss: 0.3215\n",
      "Epoch 56/100\n",
      "\u001b[1m3714/3714\u001b[0m \u001b[32m━━━━━━━━━━━━━━━━━━━━\u001b[0m\u001b[37m\u001b[0m \u001b[1m3s\u001b[0m 836us/step - accuracy: 0.8638 - loss: 0.3252\n",
      "Epoch 57/100\n",
      "\u001b[1m3714/3714\u001b[0m \u001b[32m━━━━━━━━━━━━━━━━━━━━\u001b[0m\u001b[37m\u001b[0m \u001b[1m3s\u001b[0m 815us/step - accuracy: 0.8648 - loss: 0.3216\n",
      "Epoch 58/100\n",
      "\u001b[1m3714/3714\u001b[0m \u001b[32m━━━━━━━━━━━━━━━━━━━━\u001b[0m\u001b[37m\u001b[0m \u001b[1m3s\u001b[0m 832us/step - accuracy: 0.8652 - loss: 0.3202\n",
      "Epoch 59/100\n",
      "\u001b[1m3714/3714\u001b[0m \u001b[32m━━━━━━━━━━━━━━━━━━━━\u001b[0m\u001b[37m\u001b[0m \u001b[1m3s\u001b[0m 752us/step - accuracy: 0.8641 - loss: 0.3225\n",
      "Epoch 60/100\n",
      "\u001b[1m3714/3714\u001b[0m \u001b[32m━━━━━━━━━━━━━━━━━━━━\u001b[0m\u001b[37m\u001b[0m \u001b[1m3s\u001b[0m 807us/step - accuracy: 0.8642 - loss: 0.3244\n",
      "Epoch 61/100\n",
      "\u001b[1m3714/3714\u001b[0m \u001b[32m━━━━━━━━━━━━━━━━━━━━\u001b[0m\u001b[37m\u001b[0m \u001b[1m3s\u001b[0m 708us/step - accuracy: 0.8639 - loss: 0.3237\n",
      "Epoch 62/100\n",
      "\u001b[1m3714/3714\u001b[0m \u001b[32m━━━━━━━━━━━━━━━━━━━━\u001b[0m\u001b[37m\u001b[0m \u001b[1m3s\u001b[0m 825us/step - accuracy: 0.8648 - loss: 0.3233\n",
      "Epoch 63/100\n",
      "\u001b[1m3714/3714\u001b[0m \u001b[32m━━━━━━━━━━━━━━━━━━━━\u001b[0m\u001b[37m\u001b[0m \u001b[1m3s\u001b[0m 848us/step - accuracy: 0.8649 - loss: 0.3218\n",
      "Epoch 64/100\n",
      "\u001b[1m3714/3714\u001b[0m \u001b[32m━━━━━━━━━━━━━━━━━━━━\u001b[0m\u001b[37m\u001b[0m \u001b[1m4s\u001b[0m 943us/step - accuracy: 0.8637 - loss: 0.3233\n",
      "Epoch 65/100\n",
      "\u001b[1m3714/3714\u001b[0m \u001b[32m━━━━━━━━━━━━━━━━━━━━\u001b[0m\u001b[37m\u001b[0m \u001b[1m4s\u001b[0m 1ms/step - accuracy: 0.8642 - loss: 0.3229\n",
      "Epoch 66/100\n",
      "\u001b[1m3714/3714\u001b[0m \u001b[32m━━━━━━━━━━━━━━━━━━━━\u001b[0m\u001b[37m\u001b[0m \u001b[1m3s\u001b[0m 833us/step - accuracy: 0.8639 - loss: 0.3244\n",
      "Epoch 67/100\n",
      "\u001b[1m3714/3714\u001b[0m \u001b[32m━━━━━━━━━━━━━━━━━━━━\u001b[0m\u001b[37m\u001b[0m \u001b[1m3s\u001b[0m 846us/step - accuracy: 0.8640 - loss: 0.3229\n",
      "Epoch 68/100\n",
      "\u001b[1m3714/3714\u001b[0m \u001b[32m━━━━━━━━━━━━━━━━━━━━\u001b[0m\u001b[37m\u001b[0m \u001b[1m3s\u001b[0m 853us/step - accuracy: 0.8667 - loss: 0.3210\n",
      "Epoch 69/100\n",
      "\u001b[1m3714/3714\u001b[0m \u001b[32m━━━━━━━━━━━━━━━━━━━━\u001b[0m\u001b[37m\u001b[0m \u001b[1m4s\u001b[0m 989us/step - accuracy: 0.8646 - loss: 0.3223\n",
      "Epoch 70/100\n",
      "\u001b[1m3714/3714\u001b[0m \u001b[32m━━━━━━━━━━━━━━━━━━━━\u001b[0m\u001b[37m\u001b[0m \u001b[1m3s\u001b[0m 878us/step - accuracy: 0.8660 - loss: 0.3214\n",
      "Epoch 71/100\n",
      "\u001b[1m3714/3714\u001b[0m \u001b[32m━━━━━━━━━━━━━━━━━━━━\u001b[0m\u001b[37m\u001b[0m \u001b[1m3s\u001b[0m 826us/step - accuracy: 0.8658 - loss: 0.3205\n",
      "Epoch 72/100\n",
      "\u001b[1m3714/3714\u001b[0m \u001b[32m━━━━━━━━━━━━━━━━━━━━\u001b[0m\u001b[37m\u001b[0m \u001b[1m3s\u001b[0m 789us/step - accuracy: 0.8648 - loss: 0.3211\n",
      "Epoch 73/100\n",
      "\u001b[1m3714/3714\u001b[0m \u001b[32m━━━━━━━━━━━━━━━━━━━━\u001b[0m\u001b[37m\u001b[0m \u001b[1m3s\u001b[0m 815us/step - accuracy: 0.8648 - loss: 0.3211\n",
      "Epoch 74/100\n",
      "\u001b[1m3714/3714\u001b[0m \u001b[32m━━━━━━━━━━━━━━━━━━━━\u001b[0m\u001b[37m\u001b[0m \u001b[1m3s\u001b[0m 796us/step - accuracy: 0.8661 - loss: 0.3220\n",
      "Epoch 75/100\n",
      "\u001b[1m3714/3714\u001b[0m \u001b[32m━━━━━━━━━━━━━━━━━━━━\u001b[0m\u001b[37m\u001b[0m \u001b[1m3s\u001b[0m 830us/step - accuracy: 0.8642 - loss: 0.3220\n",
      "Epoch 76/100\n",
      "\u001b[1m3714/3714\u001b[0m \u001b[32m━━━━━━━━━━━━━━━━━━━━\u001b[0m\u001b[37m\u001b[0m \u001b[1m3s\u001b[0m 843us/step - accuracy: 0.8639 - loss: 0.3201\n",
      "Epoch 77/100\n",
      "\u001b[1m3714/3714\u001b[0m \u001b[32m━━━━━━━━━━━━━━━━━━━━\u001b[0m\u001b[37m\u001b[0m \u001b[1m4s\u001b[0m 975us/step - accuracy: 0.8628 - loss: 0.3252\n",
      "Epoch 78/100\n",
      "\u001b[1m3714/3714\u001b[0m \u001b[32m━━━━━━━━━━━━━━━━━━━━\u001b[0m\u001b[37m\u001b[0m \u001b[1m3s\u001b[0m 833us/step - accuracy: 0.8641 - loss: 0.3238\n",
      "Epoch 79/100\n",
      "\u001b[1m3714/3714\u001b[0m \u001b[32m━━━━━━━━━━━━━━━━━━━━\u001b[0m\u001b[37m\u001b[0m \u001b[1m5s\u001b[0m 683us/step - accuracy: 0.8648 - loss: 0.3229\n",
      "Epoch 80/100\n",
      "\u001b[1m3714/3714\u001b[0m \u001b[32m━━━━━━━━━━━━━━━━━━━━\u001b[0m\u001b[37m\u001b[0m \u001b[1m2s\u001b[0m 660us/step - accuracy: 0.8660 - loss: 0.3220\n",
      "Epoch 81/100\n",
      "\u001b[1m3714/3714\u001b[0m \u001b[32m━━━━━━━━━━━━━━━━━━━━\u001b[0m\u001b[37m\u001b[0m \u001b[1m3s\u001b[0m 750us/step - accuracy: 0.8638 - loss: 0.3231\n",
      "Epoch 82/100\n",
      "\u001b[1m3714/3714\u001b[0m \u001b[32m━━━━━━━━━━━━━━━━━━━━\u001b[0m\u001b[37m\u001b[0m \u001b[1m4s\u001b[0m 1ms/step - accuracy: 0.8642 - loss: 0.3217\n",
      "Epoch 83/100\n",
      "\u001b[1m3714/3714\u001b[0m \u001b[32m━━━━━━━━━━━━━━━━━━━━\u001b[0m\u001b[37m\u001b[0m \u001b[1m4s\u001b[0m 1ms/step - accuracy: 0.8676 - loss: 0.3190\n",
      "Epoch 84/100\n",
      "\u001b[1m3714/3714\u001b[0m \u001b[32m━━━━━━━━━━━━━━━━━━━━\u001b[0m\u001b[37m\u001b[0m \u001b[1m5s\u001b[0m 1ms/step - accuracy: 0.8630 - loss: 0.3245\n",
      "Epoch 85/100\n",
      "\u001b[1m3714/3714\u001b[0m \u001b[32m━━━━━━━━━━━━━━━━━━━━\u001b[0m\u001b[37m\u001b[0m \u001b[1m7s\u001b[0m 2ms/step - accuracy: 0.8644 - loss: 0.3226\n",
      "Epoch 86/100\n",
      "\u001b[1m3714/3714\u001b[0m \u001b[32m━━━━━━━━━━━━━━━━━━━━\u001b[0m\u001b[37m\u001b[0m \u001b[1m5s\u001b[0m 1ms/step - accuracy: 0.8659 - loss: 0.3200\n",
      "Epoch 87/100\n",
      "\u001b[1m3714/3714\u001b[0m \u001b[32m━━━━━━━━━━━━━━━━━━━━\u001b[0m\u001b[37m\u001b[0m \u001b[1m4s\u001b[0m 1ms/step - accuracy: 0.8640 - loss: 0.3227\n",
      "Epoch 88/100\n",
      "\u001b[1m3714/3714\u001b[0m \u001b[32m━━━━━━━━━━━━━━━━━━━━\u001b[0m\u001b[37m\u001b[0m \u001b[1m5s\u001b[0m 1ms/step - accuracy: 0.8632 - loss: 0.3246\n",
      "Epoch 89/100\n",
      "\u001b[1m3714/3714\u001b[0m \u001b[32m━━━━━━━━━━━━━━━━━━━━\u001b[0m\u001b[37m\u001b[0m \u001b[1m6s\u001b[0m 2ms/step - accuracy: 0.8652 - loss: 0.3203\n",
      "Epoch 90/100\n",
      "\u001b[1m3714/3714\u001b[0m \u001b[32m━━━━━━━━━━━━━━━━━━━━\u001b[0m\u001b[37m\u001b[0m \u001b[1m7s\u001b[0m 718us/step - accuracy: 0.8665 - loss: 0.3197\n",
      "Epoch 91/100\n",
      "\u001b[1m3714/3714\u001b[0m \u001b[32m━━━━━━━━━━━━━━━━━━━━\u001b[0m\u001b[37m\u001b[0m \u001b[1m2s\u001b[0m 663us/step - accuracy: 0.8625 - loss: 0.3262\n",
      "Epoch 92/100\n",
      "\u001b[1m3714/3714\u001b[0m \u001b[32m━━━━━━━━━━━━━━━━━━━━\u001b[0m\u001b[37m\u001b[0m \u001b[1m3s\u001b[0m 711us/step - accuracy: 0.8655 - loss: 0.3203\n",
      "Epoch 93/100\n",
      "\u001b[1m3714/3714\u001b[0m \u001b[32m━━━━━━━━━━━━━━━━━━━━\u001b[0m\u001b[37m\u001b[0m \u001b[1m3s\u001b[0m 912us/step - accuracy: 0.8639 - loss: 0.3231\n",
      "Epoch 94/100\n",
      "\u001b[1m3714/3714\u001b[0m \u001b[32m━━━━━━━━━━━━━━━━━━━━\u001b[0m\u001b[37m\u001b[0m \u001b[1m7s\u001b[0m 2ms/step - accuracy: 0.8632 - loss: 0.3240\n",
      "Epoch 95/100\n",
      "\u001b[1m3714/3714\u001b[0m \u001b[32m━━━━━━━━━━━━━━━━━━━━\u001b[0m\u001b[37m\u001b[0m \u001b[1m6s\u001b[0m 768us/step - accuracy: 0.8660 - loss: 0.3202\n",
      "Epoch 96/100\n",
      "\u001b[1m3714/3714\u001b[0m \u001b[32m━━━━━━━━━━━━━━━━━━━━\u001b[0m\u001b[37m\u001b[0m \u001b[1m3s\u001b[0m 728us/step - accuracy: 0.8629 - loss: 0.3264\n",
      "Epoch 97/100\n",
      "\u001b[1m3714/3714\u001b[0m \u001b[32m━━━━━━━━━━━━━━━━━━━━\u001b[0m\u001b[37m\u001b[0m \u001b[1m3s\u001b[0m 877us/step - accuracy: 0.8639 - loss: 0.3241\n",
      "Epoch 98/100\n",
      "\u001b[1m3714/3714\u001b[0m \u001b[32m━━━━━━━━━━━━━━━━━━━━\u001b[0m\u001b[37m\u001b[0m \u001b[1m5s\u001b[0m 811us/step - accuracy: 0.8659 - loss: 0.3203\n",
      "Epoch 99/100\n",
      "\u001b[1m3714/3714\u001b[0m \u001b[32m━━━━━━━━━━━━━━━━━━━━\u001b[0m\u001b[37m\u001b[0m \u001b[1m5s\u001b[0m 793us/step - accuracy: 0.8650 - loss: 0.3211\n",
      "Epoch 100/100\n",
      "\u001b[1m3714/3714\u001b[0m \u001b[32m━━━━━━━━━━━━━━━━━━━━\u001b[0m\u001b[37m\u001b[0m \u001b[1m4s\u001b[0m 995us/step - accuracy: 0.8651 - loss: 0.3204\n"
     ]
    },
    {
     "data": {
      "text/plain": [
       "<keras.src.callbacks.history.History at 0x7d68209a2490>"
      ]
     },
     "execution_count": 20,
     "metadata": {},
     "output_type": "execute_result"
    }
   ],
   "source": [
    "# Model trainning\n",
    "import tensorflow as tf\n",
    "from tensorflow import keras\n",
    "\n",
    "\n",
    "model3 = keras.Sequential([\n",
    "    keras.layers.Dense(12, input_shape=(12,), activation='relu'),\n",
    "    keras.layers.Dense(10, activation='relu'),\n",
    "    keras.layers.Dense(1, activation='sigmoid')\n",
    "])\n",
    "\n",
    "# opt = keras.optimizers.Adam(learning_rate=0.01)\n",
    "\n",
    "model3.compile(optimizer='adam',\n",
    "              loss='binary_crossentropy',\n",
    "              metrics=['accuracy'])\n",
    "\n",
    "model3.fit(X_train, y_train, epochs=100)"
   ]
  },
  {
   "cell_type": "code",
   "execution_count": 21,
   "id": "78b295ad-0e4d-4d5f-a05c-ff8b26e5e4b6",
   "metadata": {},
   "outputs": [
    {
     "name": "stdout",
     "output_type": "stream",
     "text": [
      "\u001b[1m929/929\u001b[0m \u001b[32m━━━━━━━━━━━━━━━━━━━━\u001b[0m\u001b[37m\u001b[0m \u001b[1m1s\u001b[0m 1ms/step - accuracy: 0.8671 - loss: 0.3229\n"
     ]
    },
    {
     "data": {
      "text/plain": [
       "[0.3211848735809326, 0.8672029972076416]"
      ]
     },
     "execution_count": 21,
     "metadata": {},
     "output_type": "execute_result"
    }
   ],
   "source": [
    "# Model Evaluating\n",
    "model3.evaluate(X_test, y_test)"
   ]
  },
  {
   "cell_type": "code",
   "execution_count": 22,
   "id": "27d903a6-e4b6-49a7-8908-8ef275642664",
   "metadata": {},
   "outputs": [
    {
     "name": "stdout",
     "output_type": "stream",
     "text": [
      "\u001b[1m929/929\u001b[0m \u001b[32m━━━━━━━━━━━━━━━━━━━━\u001b[0m\u001b[37m\u001b[0m \u001b[1m1s\u001b[0m 1ms/step\n",
      "              precision    recall  f1-score   support\n",
      "\n",
      "           0       0.89      0.95      0.92     23375\n",
      "           1       0.76      0.56      0.64      6332\n",
      "\n",
      "    accuracy                           0.87     29707\n",
      "   macro avg       0.82      0.75      0.78     29707\n",
      "weighted avg       0.86      0.87      0.86     29707\n",
      "\n"
     ]
    }
   ],
   "source": [
    "yp3 = model3.predict(X_test)\n",
    "yp3[:5]\n",
    "\n",
    "y_pred3 = []\n",
    "for element in yp3:\n",
    "    if element > 0.5:\n",
    "        y_pred3.append(1)\n",
    "    else:\n",
    "        y_pred3.append(0)\n",
    "\n",
    "print(classification_report(y_test,y_pred3))"
   ]
  },
  {
   "cell_type": "markdown",
   "id": "81621bc2-0140-49f7-a1ab-a3e0d49f1a9e",
   "metadata": {},
   "source": [
    "After adjust and evaluate each of the classification models selected, we can conclude that the model 2 is the best fit for the situation. In the next section we will make the predictions for inference.csv data applying it. This model is considered good because it demonstrates high precision, recall, and F1-scores for the majority class, reasonable performance for the minority class, and overall high accuracy, all while handling an imbalanced dataset effectively."
   ]
  },
  {
   "cell_type": "markdown",
   "id": "3de710e0-771b-472f-ae42-711412c246f3",
   "metadata": {},
   "source": [
    "### 6. Inference\n",
    "\n",
    "First i need to ensure that the inference.csv features have the same structure and preprocessing made for the training features:"
   ]
  },
  {
   "cell_type": "code",
   "execution_count": 23,
   "id": "366b0a22-34d5-4a7b-aef9-83551c818c8c",
   "metadata": {},
   "outputs": [],
   "source": [
    "# Deleting no relevant columns\n",
    "inference_df.drop(['id', 'CustomerId', 'Surname'],axis='columns',inplace=True)\n",
    "\n",
    "# Setting the correct format for the features\n",
    "inference_df['Age'] = inference_df['Age'].astype(int)\n",
    "inference_df['HasCrCard'] = inference_df['HasCrCard'].astype(int)\n",
    "inference_df['IsActiveMember'] = inference_df['IsActiveMember'].astype(int)\n",
    "\n",
    "# Adjust data structure\n",
    "inference_df['Gender'] = inference_df['Gender'].replace({'Female': 1, 'Male': 0})\n",
    "\n",
    "# One hot encoding for categorical columns\n",
    "inference_df = pd.get_dummies(data=inference_df, columns=['Geography'])\n",
    "\n",
    "# Adjust column data types\n",
    "inference_df['Gender'] = inference_df['Gender'].astype(int)\n",
    "inference_df['Geography_France'] = inference_df['Geography_France'].astype(int)\n",
    "inference_df['Geography_Germany'] = inference_df['Geography_Germany'].astype(int)\n",
    "inference_df['Geography_Spain'] = inference_df['Geography_Spain'].astype(int)\n",
    "\n",
    "# Regularizing 'CreditScore','Tenure','Balance' and 'EstimatedSalary'\n",
    "cols_to_scale = ['CreditScore','Tenure','Balance','EstimatedSalary']\n",
    "\n",
    "from sklearn.preprocessing import MinMaxScaler\n",
    "scaler = MinMaxScaler()\n",
    "inference_df[cols_to_scale] = scaler.fit_transform(inference_df[cols_to_scale])\n",
    "\n",
    "# Standarizing 'Age'\n",
    "scaler_age = StandardScaler()\n",
    "inference_df['Age'] = scaler_age.fit_transform(inference_df[['Age']])\n",
    "\n",
    "# Normalizing 'NumOfProducts'\n",
    "scaler_products = MinMaxScaler()\n",
    "inference_df['NumOfProducts'] = scaler_products.fit_transform(inference_df[['NumOfProducts']])"
   ]
  },
  {
   "cell_type": "code",
   "execution_count": 24,
   "id": "5d5a7ef6-726a-4a0e-a08f-fee7447da97a",
   "metadata": {},
   "outputs": [
    {
     "name": "stdout",
     "output_type": "stream",
     "text": [
      "\u001b[1m516/516\u001b[0m \u001b[32m━━━━━━━━━━━━━━━━━━━━\u001b[0m\u001b[37m\u001b[0m \u001b[1m1s\u001b[0m 958us/step\n"
     ]
    }
   ],
   "source": [
    "# Make predictions\n",
    "predictions = model2.predict(inference_df)\n",
    "\n",
    "# Convert predictions to binary labels if necessary\n",
    "# Assuming this is a binary classification problem\n",
    "binary_predictions = (predictions > 0.5).astype(int)\n",
    "\n",
    "# Optional: Add predictions to inference_df\n",
    "inference_df['Churn'] = binary_predictions\n",
    "\n",
    "# Save the predictions to a CSV file\n",
    "inference_df.to_csv('inference.csv', index=False)"
   ]
  },
  {
   "cell_type": "markdown",
   "id": "bc0b57ef-eef1-4b14-a9a1-c84e9f05a268",
   "metadata": {},
   "source": [
    "### 7. Future improvements, OOP and deployment discussion"
   ]
  },
  {
   "cell_type": "markdown",
   "id": "b56dc0d6-cd0f-4aec-b8d4-a2f90c6f71f8",
   "metadata": {},
   "source": [
    "Future improvements could include:\n",
    "1. Using more sophisticated feature engineering techniques.\n",
    "2. Testing additional models such as gradient boosting.\n",
    "3. Performing more extensive hyperparameter tuning.\n",
    "4. Using cross-validation to ensure model robustness.\n",
    "5. Incorporating domain knowledge into feature selection and engineering.\n",
    "\n",
    "\n",
    "Object-Oriented Programming (OOP) could be applied by creating classes for data preprocessing,\n",
    "model training, and evaluation. This would make the code more modular and reusable.\n",
    "\n",
    "For deployment, the model can be serialized using libraries such as joblib or pickle. The model\n",
    "can be deployed as a REST API using Flask or Django, and served using a platform like Docker or\n",
    "Kubernetes to ensure scalability and reliability."
   ]
  },
  {
   "cell_type": "markdown",
   "id": "1631c15a-ccdc-4b59-90a7-64aab59bbb86",
   "metadata": {},
   "source": [
    "Thank you,\n",
    "\n",
    "Presented by Guillermo Andrés Arboleda Garzón for Konecta Data Scientist Position at 30/07/2024"
   ]
  }
 ],
 "metadata": {
  "kernelspec": {
   "display_name": "Python 3 (ipykernel)",
   "language": "python",
   "name": "python3"
  },
  "language_info": {
   "codemirror_mode": {
    "name": "ipython",
    "version": 3
   },
   "file_extension": ".py",
   "mimetype": "text/x-python",
   "name": "python",
   "nbconvert_exporter": "python",
   "pygments_lexer": "ipython3",
   "version": "3.11.7"
  }
 },
 "nbformat": 4,
 "nbformat_minor": 5
}
